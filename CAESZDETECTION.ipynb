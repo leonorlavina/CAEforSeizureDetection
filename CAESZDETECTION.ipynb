{
  "cells": [
    {
      "cell_type": "markdown",
      "metadata": {
        "id": "view-in-github",
        "colab_type": "text"
      },
      "source": [
        "<a href=\"https://colab.research.google.com/github/leonorlavina/CAEforSeizureDetection/blob/main/CAESZDETECTION.ipynb\" target=\"_parent\"><img src=\"https://colab.research.google.com/assets/colab-badge.svg\" alt=\"Open In Colab\"/></a>"
      ]
    },
    {
      "cell_type": "markdown",
      "source": [
        "### Setup"
      ],
      "metadata": {
        "id": "bQVgMastjsKq"
      },
      "id": "bQVgMastjsKq"
    },
    {
      "cell_type": "code",
      "execution_count": null,
      "id": "bfc0d970",
      "metadata": {
        "id": "bfc0d970"
      },
      "outputs": [],
      "source": [
        "# For maths\n",
        "import numpy as np\n",
        "# For separate data sets training/validation\n",
        "import random"
      ]
    },
    {
      "cell_type": "code",
      "execution_count": null,
      "id": "20e69948",
      "metadata": {
        "colab": {
          "base_uri": "https://localhost:8080/"
        },
        "id": "20e69948",
        "outputId": "5dfb17e2-889e-40e9-da26-f78c02011b89"
      },
      "outputs": [
        {
          "output_type": "stream",
          "name": "stdout",
          "text": [
            "Requirement already satisfied: mne in /usr/local/lib/python3.10/dist-packages (1.5.1)\n",
            "Requirement already satisfied: numpy>=1.15.4 in /usr/local/lib/python3.10/dist-packages (from mne) (1.23.5)\n",
            "Requirement already satisfied: scipy>=1.6.3 in /usr/local/lib/python3.10/dist-packages (from mne) (1.10.1)\n",
            "Requirement already satisfied: matplotlib>=3.4.0 in /usr/local/lib/python3.10/dist-packages (from mne) (3.7.1)\n",
            "Requirement already satisfied: tqdm in /usr/local/lib/python3.10/dist-packages (from mne) (4.66.1)\n",
            "Requirement already satisfied: pooch>=1.5 in /usr/local/lib/python3.10/dist-packages (from mne) (1.7.0)\n",
            "Requirement already satisfied: decorator in /usr/local/lib/python3.10/dist-packages (from mne) (4.4.2)\n",
            "Requirement already satisfied: packaging in /usr/local/lib/python3.10/dist-packages (from mne) (23.1)\n",
            "Requirement already satisfied: jinja2 in /usr/local/lib/python3.10/dist-packages (from mne) (3.1.2)\n",
            "Requirement already satisfied: contourpy>=1.0.1 in /usr/local/lib/python3.10/dist-packages (from matplotlib>=3.4.0->mne) (1.1.0)\n",
            "Requirement already satisfied: cycler>=0.10 in /usr/local/lib/python3.10/dist-packages (from matplotlib>=3.4.0->mne) (0.11.0)\n",
            "Requirement already satisfied: fonttools>=4.22.0 in /usr/local/lib/python3.10/dist-packages (from matplotlib>=3.4.0->mne) (4.42.1)\n",
            "Requirement already satisfied: kiwisolver>=1.0.1 in /usr/local/lib/python3.10/dist-packages (from matplotlib>=3.4.0->mne) (1.4.5)\n",
            "Requirement already satisfied: pillow>=6.2.0 in /usr/local/lib/python3.10/dist-packages (from matplotlib>=3.4.0->mne) (9.4.0)\n",
            "Requirement already satisfied: pyparsing>=2.3.1 in /usr/local/lib/python3.10/dist-packages (from matplotlib>=3.4.0->mne) (3.1.1)\n",
            "Requirement already satisfied: python-dateutil>=2.7 in /usr/local/lib/python3.10/dist-packages (from matplotlib>=3.4.0->mne) (2.8.2)\n",
            "Requirement already satisfied: platformdirs>=2.5.0 in /usr/local/lib/python3.10/dist-packages (from pooch>=1.5->mne) (3.10.0)\n",
            "Requirement already satisfied: requests>=2.19.0 in /usr/local/lib/python3.10/dist-packages (from pooch>=1.5->mne) (2.31.0)\n",
            "Requirement already satisfied: MarkupSafe>=2.0 in /usr/local/lib/python3.10/dist-packages (from jinja2->mne) (2.1.3)\n",
            "Requirement already satisfied: six>=1.5 in /usr/local/lib/python3.10/dist-packages (from python-dateutil>=2.7->matplotlib>=3.4.0->mne) (1.16.0)\n",
            "Requirement already satisfied: charset-normalizer<4,>=2 in /usr/local/lib/python3.10/dist-packages (from requests>=2.19.0->pooch>=1.5->mne) (3.2.0)\n",
            "Requirement already satisfied: idna<4,>=2.5 in /usr/local/lib/python3.10/dist-packages (from requests>=2.19.0->pooch>=1.5->mne) (3.4)\n",
            "Requirement already satisfied: urllib3<3,>=1.21.1 in /usr/local/lib/python3.10/dist-packages (from requests>=2.19.0->pooch>=1.5->mne) (2.0.4)\n",
            "Requirement already satisfied: certifi>=2017.4.17 in /usr/local/lib/python3.10/dist-packages (from requests>=2.19.0->pooch>=1.5->mne) (2023.7.22)\n"
          ]
        }
      ],
      "source": [
        "!pip install mne\n",
        "import mne"
      ]
    },
    {
      "cell_type": "code",
      "execution_count": null,
      "id": "66facf19",
      "metadata": {
        "id": "66facf19"
      },
      "outputs": [],
      "source": [
        "# Deep learning library\n",
        "import torch\n",
        "import torch.optim as optim"
      ]
    },
    {
      "cell_type": "code",
      "execution_count": null,
      "id": "d5ba3767",
      "metadata": {
        "id": "d5ba3767"
      },
      "outputs": [],
      "source": [
        "import torch.nn as nn\n",
        "from torch.utils.data import ConcatDataset, Dataset, DataLoader, random_split"
      ]
    },
    {
      "cell_type": "code",
      "execution_count": null,
      "id": "821728c0",
      "metadata": {
        "id": "821728c0"
      },
      "outputs": [],
      "source": [
        "# For progress bars\n",
        "from tqdm import tqdm\n",
        "\n",
        "# For plotting graphs\n",
        "import matplotlib.pyplot as plt\n",
        "\n",
        "# Misc\n",
        "import os\n",
        "import glob"
      ]
    },
    {
      "cell_type": "code",
      "source": [
        "# import files from your Google Drive to Colab\n",
        "# When you add a new file you have to run this cell again\n",
        "from google.colab import drive\n",
        "drive.mount('/content/drive', force_remount=True)"
      ],
      "metadata": {
        "colab": {
          "base_uri": "https://localhost:8080/"
        },
        "id": "lZYz5q719Miz",
        "outputId": "c3d18511-a3d6-4094-864f-c48fc5936046"
      },
      "id": "lZYz5q719Miz",
      "execution_count": null,
      "outputs": [
        {
          "output_type": "stream",
          "name": "stdout",
          "text": [
            "Mounted at /content/drive\n"
          ]
        }
      ]
    },
    {
      "cell_type": "code",
      "source": [
        "# Check it's connected to Google Drive correctly\n",
        "import json\n",
        "with open('/content/drive/My Drive/Leonor/all_patients_data.json', 'r') as file:\n",
        "    data = json.load(file)"
      ],
      "metadata": {
        "id": "Bxuw4vt-9ae-"
      },
      "id": "Bxuw4vt-9ae-",
      "execution_count": null,
      "outputs": []
    },
    {
      "cell_type": "code",
      "execution_count": null,
      "id": "95e4d70d",
      "metadata": {
        "id": "95e4d70d"
      },
      "outputs": [],
      "source": [
        "# Train a model, or use an existing one? Change to false if inference only\n",
        "training_mode = False\n",
        "\n",
        "# Path to data\n",
        "# data_path = \"/Users/leonorlavina/Desktop/szdata/\"\n",
        "data_path = \"/content/drive/My Drive/Leonor/szdata/\"\n",
        "\n",
        "# Location for where to save/load best weights (note that folder should be created already)\n",
        "weights_path = \"best_weights.pth\"\n"
      ]
    },
    {
      "cell_type": "code",
      "execution_count": null,
      "id": "e0fcfbfe",
      "metadata": {
        "id": "e0fcfbfe",
        "colab": {
          "base_uri": "https://localhost:8080/"
        },
        "outputId": "117be19e-fcce-4002-e13e-af614d0a7dcf"
      },
      "outputs": [
        {
          "output_type": "stream",
          "name": "stdout",
          "text": [
            "PyTorch version: 2.0.1+cu118\n",
            "Is MPS (Metal Performance Shader) built? False\n",
            "Is MPS available? False\n",
            "Using device: cpu\n"
          ]
        }
      ],
      "source": [
        "print(f\"PyTorch version: {torch.__version__}\")\n",
        "\n",
        "# Check PyTorch has access to MPS (Metal Performance Shader, Apple's GPU architecture)\n",
        "print(f\"Is MPS (Metal Performance Shader) built? {torch.backends.mps.is_built()}\")\n",
        "print(f\"Is MPS available? {torch.backends.mps.is_available()}\")\n",
        "\n",
        "# Set the device\n",
        "device = \"mps\" if torch.backends.mps.is_available() else \"cpu\"\n",
        "print(f\"Using device: {device}\")"
      ]
    },
    {
      "cell_type": "markdown",
      "source": [
        "## Preprocess"
      ],
      "metadata": {
        "id": "Yq1EPtBg5Soz"
      },
      "id": "Yq1EPtBg5Soz"
    },
    {
      "cell_type": "markdown",
      "source": [
        "##### Convert Baseline Data"
      ],
      "metadata": {
        "id": "4wX3N_Dh5OBx"
      },
      "id": "4wX3N_Dh5OBx"
    },
    {
      "cell_type": "code",
      "source": [
        "colab_path = '/content/drive/My Drive/Leonor'"
      ],
      "metadata": {
        "id": "g7VFXBB5J-uZ"
      },
      "id": "g7VFXBB5J-uZ",
      "execution_count": null,
      "outputs": []
    },
    {
      "cell_type": "code",
      "source": [
        "# Get list of all interictal (baseline) files\n",
        "# interictal_paths = glob.glob(os.path.join ('/Users/leonorlavina/Desktop/szdata/' \"**/*Baseline.EDF\"), recursive=True)\n",
        "\n",
        "interictal_paths = glob.glob(os.path.join ('/content/drive/My Drive/Leonor/szdata/' \"**/*Baseline.EDF\"), recursive=True)\n",
        "\n",
        "# Remove warnings when loading data\n",
        "import warnings\n",
        "warnings.simplefilter(\"ignore\", category=RuntimeWarning)\n",
        "\n",
        "# Load and concatenate data from multiple files\n",
        "raw_list = []\n",
        "for file_path in interictal_paths:\n",
        "    # print(\"Reading data from:\", file_path)\n",
        "    raw_list.append(mne.io.read_raw_edf(file_path, preload=True, verbose=False))\n",
        "\n",
        "# raw_list: [(97, 33024), (97, 33024),(97, 33024), ..., (97, 33024)] (len = 90)\n",
        "\n",
        "print(\"Total number of raw data:\", len(raw_list))\n",
        "# Save ictal_raw_list in Google Drive\n",
        "import pickle\n",
        "raw_list_path = f\"{colab_path}/raw_list.pkl\"\n",
        "\n",
        "with open(raw_list_path, 'wb') as file:\n",
        "    pickle.dump(raw_list, file)"
      ],
      "metadata": {
        "id": "lnSaXaISkvRm",
        "colab": {
          "base_uri": "https://localhost:8080/"
        },
        "outputId": "3d9542b7-d916-4904-a316-1e6905007546"
      },
      "id": "lnSaXaISkvRm",
      "execution_count": null,
      "outputs": [
        {
          "output_type": "stream",
          "name": "stdout",
          "text": [
            "Total number of raw data: 90\n"
          ]
        }
      ]
    },
    {
      "cell_type": "markdown",
      "source": [
        "###### Get raw_dict with patient_id as key"
      ],
      "metadata": {
        "id": "ieEssKf9Nedn"
      },
      "id": "ieEssKf9Nedn"
    },
    {
      "cell_type": "code",
      "source": [
        "interictal_paths = glob.glob(os.path.join ('/content/drive/My Drive/Leonor/szdata/' \"**/*Baseline.EDF\"), recursive=True)\n",
        "\n",
        "# Remove warnings when loading data\n",
        "import warnings\n",
        "warnings.simplefilter(\"ignore\", category=RuntimeWarning)\n",
        "\n",
        "# Load and concatenate data from multiple files\n",
        "raw_dict = {}\n",
        "for file_path in interictal_paths:\n",
        "\n",
        "    # print(\"Reading data from:\", file_path)\n",
        "    raw_list.append(mne.io.read_raw_edf(file_path, preload=True, verbose=False))\n",
        "\n",
        "# raw_list: [(97, 33024), (97, 33024),(97, 33024), ..., (97, 33024)] (len = 90)\n",
        "\n",
        "print(\"Total number of raw data:\", len(raw_list))\n",
        "# Save ictal_raw_list in Google Drive\n",
        "import pickle\n",
        "raw_list_path = f\"{colab_path}/raw_list.pkl\"\n",
        "\n",
        "with open(raw_list_path, 'wb') as file:\n",
        "    pickle.dump(raw_list, file)"
      ],
      "metadata": {
        "id": "zUgFTrmlNkQb",
        "colab": {
          "base_uri": "https://localhost:8080/"
        },
        "outputId": "20d218a1-5894-48e6-e562-309d3744e7b2"
      },
      "id": "zUgFTrmlNkQb",
      "execution_count": null,
      "outputs": [
        {
          "output_type": "stream",
          "name": "stdout",
          "text": [
            "Total number of raw data: 180\n"
          ]
        }
      ]
    },
    {
      "cell_type": "markdown",
      "source": [
        "##### Load raw_list"
      ],
      "metadata": {
        "id": "6FgsMr4zlRgA"
      },
      "id": "6FgsMr4zlRgA"
    },
    {
      "cell_type": "code",
      "source": [
        "# Load ictal_raw_list\n",
        "import pickle\n",
        "ictal_raw_list_path = f\"{colab_path}/ictal_raw_list.pkl\"\n",
        "\n",
        "with open(ictal_raw_list_path, 'rb') as file:\n",
        "    ictal_raw_list = pickle.load(file)\n",
        "\n",
        "print(ictal_raw_list)"
      ],
      "metadata": {
        "id": "x4NA4zBXld49",
        "colab": {
          "base_uri": "https://localhost:8080/"
        },
        "outputId": "5eafec89-f387-4e71-f157-8e08e9682bd0"
      },
      "id": "x4NA4zBXld49",
      "execution_count": null,
      "outputs": [
        {
          "output_type": "stream",
          "name": "stdout",
          "text": [
            "[<RawEDF | KiCl_Seizure1.EDF, 60 x 49152 (96.0 s), ~22.6 MB, data loaded>, <RawEDF | KiCl_Seizure2.EDF, 60 x 62208 (121.5 s), ~28.5 MB, data loaded>, <RawEDF | KiCl_Seizure3.EDF, 60 x 47104 (92.0 s), ~21.6 MB, data loaded>, <RawEDF | RhKe_Seizure3.EDF, 146 x 123008 (120.1 s), ~137.2 MB, data loaded>, <RawEDF | RhKe_Seizure2.EDF, 146 x 126080 (123.1 s), ~140.6 MB, data loaded>, <RawEDF | RhKe_Seizure1.EDF, 146 x 140032 (136.7 s), ~156.1 MB, data loaded>, <RawEDF | ArRy_Seizure2.EDF, 117 x 77056 (75.2 s), ~68.9 MB, data loaded>, <RawEDF | ArRy_Seizure3.EDF, 117 x 110080 (107.5 s), ~98.4 MB, data loaded>, <RawEDF | ArRy_Seizure1.EDF, 117 x 96000 (93.7 s), ~85.8 MB, data loaded>, <RawEDF | SaIs_Seizure2.EDF, 59 x 164352 (160.5 s), ~74.0 MB, data loaded>, <RawEDF | SaIs_Seizure3.EDF, 59 x 119296 (116.5 s), ~53.8 MB, data loaded>, <RawEDF | SaIs_Seizure1.EDF, 59 x 109056 (106.5 s), ~49.2 MB, data loaded>, <RawEDF | PoSa_Seizure3.EDF, 123 x 155008 (151.4 s), ~145.6 MB, data loaded>, <RawEDF | PoSa_Seizure2.EDF, 123 x 161024 (157.2 s), ~151.2 MB, data loaded>, <RawEDF | PoSa_Seizure1.EDF, 123 x 75008 (73.2 s), ~70.5 MB, data loaded>, <RawEDF | JaCo_Seizure1.EDF, 58 x 42496 (83.0 s), ~18.9 MB, data loaded>, <RawEDF | JaCo_Seizure2.EDF, 58 x 52224 (102.0 s), ~23.2 MB, data loaded>, <RawEDF | JaCo_Seizure3.EDF, 58 x 22016 (43.0 s), ~9.8 MB, data loaded>, <RawEDF | TiPe_Seizure1.EDF, 37 x 32256 (63.0 s), ~9.1 MB, data loaded>, <RawEDF | TiPe_Seizure2.EDF, 37 x 27136 (53.0 s), ~7.7 MB, data loaded>, <RawEDF | TiPe_Seizure3.EDF, 37 x 33280 (65.0 s), ~9.4 MB, data loaded>, <RawEDF | MaBo_Seizure1.EDF, 80 x 97024 (94.7 s), ~59.3 MB, data loaded>, <RawEDF | MaBo_Seizure2.EDF, 80 x 87040 (85.0 s), ~53.2 MB, data loaded>, <RawEDF | MaBo_Seizure3.EDF, 80 x 183040 (178.7 s), ~111.8 MB, data loaded>, <RawEDF | FaCl_Seizure1.EDF, 55 x 36352 (35.5 s), ~15.3 MB, data loaded>, <RawEDF | FaCl_Seizure2.EDF, 55 x 47104 (46.0 s), ~19.8 MB, data loaded>, <RawEDF | FaCl_Seizure3.EDF, 55 x 42496 (41.5 s), ~17.9 MB, data loaded>, <RawEDF | IsTa_Seizure1.EDF, 139 x 142080 (138.7 s), ~150.8 MB, data loaded>, <RawEDF | IsTa_Seizure2.EDF, 139 x 109056 (106.5 s), ~115.8 MB, data loaded>, <RawEDF | IsTa_Seizure3.EDF, 139 x 301056 (294.0 s), ~319.4 MB, data loaded>, <RawEDF | FlRe_Seizure1.EDF, 139 x 73088 (71.4 s), ~77.6 MB, data loaded>, <RawEDF | FlRe_Seizure3.EDF, 139 x 62080 (60.6 s), ~66.0 MB, data loaded>, <RawEDF | FlRe_Seizure2.EDF, 139 x 62080 (60.6 s), ~66.0 MB, data loaded>, <RawEDF | JoDa_Seizure1.EDF, 56 x 105472 (103.0 s), ~45.1 MB, data loaded>, <RawEDF | JoDa_Seizure2.EDF, 56 x 99328 (97.0 s), ~42.5 MB, data loaded>, <RawEDF | JoDa_Seizure3.EDF, 56 x 69120 (67.5 s), ~29.6 MB, data loaded>, <RawEDF | JeDo_Seizure1.EDF, 57 x 92160 (90.0 s), ~40.1 MB, data loaded>, <RawEDF | JeDo_Seizure2.EDF, 57 x 62464 (61.0 s), ~27.2 MB, data loaded>, <RawEDF | JeDo_Seizure3.EDF, 57 x 132096 (129.0 s), ~57.5 MB, data loaded>, <RawEDF | ErMcSt_Seizure1.EDF, 98 x 83200 (81.2 s), ~62.3 MB, data loaded>, <RawEDF | ErMcSt_Seizure3.EDF, 98 x 89088 (87.0 s), ~66.7 MB, data loaded>, <RawEDF | ErMcSt_Seizure2.EDF, 98 x 100096 (97.7 s), ~74.9 MB, data loaded>, <RawEDF | BeNe_Seizure1.EDF, 104 x 263168 (257.0 s), ~208.9 MB, data loaded>, <RawEDF | BeNe_Seizure2.EDF, 104 x 280064 (273.5 s), ~222.3 MB, data loaded>, <RawEDF | BeNe_Seizure3.EDF, 104 x 95232 (93.0 s), ~75.7 MB, data loaded>, <RawEDF | SoBe_Seizure1.EDF, 47 x 171008 (167.0 s), ~61.4 MB, data loaded>, <RawEDF | SoBe_Seizure2.EDF, 47 x 210432 (205.5 s), ~75.5 MB, data loaded>, <RawEDF | SoBe_Seizure3.EDF, 47 x 33280 (32.5 s), ~12.0 MB, data loaded>, <RawEDF | RuBa_Seizure1.EDF, 60 x 46080 (45.0 s), ~21.2 MB, data loaded>, <RawEDF | RuBa_Seizure2.EDF, 60 x 50176 (49.0 s), ~23.0 MB, data loaded>, <RawEDF | RuBa_Seizure3.EDF, 60 x 49152 (48.0 s), ~22.6 MB, data loaded>, <RawEDF | ZaSa_Seizure1.EDF, 140 x 55040 (53.7 s), ~58.9 MB, data loaded>, <RawEDF | ZaSa_Seizure3.EDF, 140 x 54016 (52.7 s), ~57.8 MB, data loaded>, <RawEDF | ZaSa_Seizure2.EDF, 140 x 73088 (71.4 s), ~78.2 MB, data loaded>, <RawEDF | JoSk_Seizure2.EDF, 115 x 113152 (110.5 s), ~99.4 MB, data loaded>, <RawEDF | JoSk_Seizure3.EDF, 115 x 110080 (107.5 s), ~96.7 MB, data loaded>, <RawEDF | JoSk_Seizure1.EDF, 115 x 93184 (91.0 s), ~81.9 MB, data loaded>, <RawEDF | EsCh_Seizure1.EDF, 81 x 84224 (82.2 s), ~52.1 MB, data loaded>, <RawEDF | EsCh_Seizure3.EDF, 81 x 44032 (43.0 s), ~27.3 MB, data loaded>, <RawEDF | EsCh_Seizure2.EDF, 81 x 37120 (36.2 s), ~23.0 MB, data loaded>, <RawEDF | ChSe_Seizure3.EDF, 143 x 105088 (102.6 s), ~114.8 MB, data loaded>, <RawEDF | ChSe_Seizure2.EDF, 143 x 56064 (54.7 s), ~61.3 MB, data loaded>, <RawEDF | ChSe_Seizure1.EDF, 143 x 48000 (46.9 s), ~52.5 MB, data loaded>, <RawEDF | UzRa_Seizure1.EDF, 39 x 100352 (98.0 s), ~29.9 MB, data loaded>, <RawEDF | UzRa_Seizure2.EDF, 39 x 109056 (106.5 s), ~32.5 MB, data loaded>, <RawEDF | UzRa_Seizure3.EDF, 39 x 112128 (109.5 s), ~33.4 MB, data loaded>, <RawEDF | BlMo_Seizure1.EDF, 47 x 136192 (133.0 s), ~48.9 MB, data loaded>, <RawEDF | BlMo_Seizure3.EDF, 47 x 112128 (109.5 s), ~40.3 MB, data loaded>, <RawEDF | BlMo_Seizure2.EDF, 47 x 102400 (100.0 s), ~36.8 MB, data loaded>, <RawEDF | MaMa_Seizure3.EDF, 16 x 97280 (95.0 s), ~11.9 MB, data loaded>, <RawEDF | MaMa_Seizure2.EDF, 16 x 147456 (144.0 s), ~18.0 MB, data loaded>, <RawEDF | MaMa_Seizure1.EDF, 16 x 113664 (111.0 s), ~13.9 MB, data loaded>, <RawEDF | ChCr_Seizure1.EDF, 137 x 268032 (261.7 s), ~280.3 MB, data loaded>, <RawEDF | ChCr_Seizure2.EDF, 137 x 70016 (68.4 s), ~73.3 MB, data loaded>, <RawEDF | ChCr_Seizure3.EDF, 137 x 66048 (64.5 s), ~69.2 MB, data loaded>, <RawEDF | KeVe_Seizure1.EDF, 122 x 44032 (43.0 s), ~41.1 MB, data loaded>, <RawEDF | KeVe_Seizure3.EDF, 122 x 54016 (52.7 s), ~50.4 MB, data loaded>, <RawEDF | KeVe_Seizure2.EDF, 122 x 46080 (45.0 s), ~43.0 MB, data loaded>, <RawEDF | JoHa_Seizure3.EDF, 96 x 189184 (184.7 s), ~138.7 MB, data loaded>, <RawEDF | JoHa_Seizure2.EDF, 96 x 179200 (175.0 s), ~131.3 MB, data loaded>, <RawEDF | JoHa_Seizure1.EDF, 96 x 134144 (131.0 s), ~98.3 MB, data loaded>, <RawEDF | MiWa_Seizure1.EDF, 49 x 76288 (149.0 s), ~28.6 MB, data loaded>, <RawEDF | MiWa_Seizure2.EDF, 49 x 146432 (286.0 s), ~54.8 MB, data loaded>, <RawEDF | MiWa_Seizure3.EDF, 49 x 104448 (204.0 s), ~39.1 MB, data loaded>, <RawEDF | SaKh_Seizure1.EDF, 37 x 198144 (193.5 s), ~56.0 MB, data loaded>, <RawEDF | SaKh_Seizure3.EDF, 37 x 250368 (244.5 s), ~70.7 MB, data loaded>, <RawEDF | SaKh_Seizure2.EDF, 37 x 136192 (133.0 s), ~38.5 MB, data loaded>, <RawEDF | SeHu_Seizure2.EDF, 97 x 50176 (49.0 s), ~37.2 MB, data loaded>, <RawEDF | SeHu_Seizure3.EDF, 97 x 45056 (44.0 s), ~33.4 MB, data loaded>, <RawEDF | SeHu_Seizure1.EDF, 97 x 40192 (39.2 s), ~29.8 MB, data loaded>]\n"
          ]
        }
      ]
    },
    {
      "cell_type": "markdown",
      "source": [
        "### Calculate Baseline Dataset statistics"
      ],
      "metadata": {
        "id": "f1dv71WXlXzH"
      },
      "id": "f1dv71WXlXzH"
    },
    {
      "cell_type": "code",
      "execution_count": null,
      "id": "d4e765fa",
      "metadata": {
        "id": "d4e765fa",
        "colab": {
          "base_uri": "https://localhost:8080/"
        },
        "outputId": "8622fa2f-e065-408f-a6b5-6cc319923920"
      },
      "outputs": [
        {
          "output_type": "stream",
          "name": "stdout",
          "text": [
            "data (60, 18176)\n",
            "data (60, 18176)\n",
            "data (60, 18176)\n",
            "global_mean -1.4130978265759e-05\n",
            "global_std 0.00015797601729913906\n"
          ]
        }
      ],
      "source": [
        "# Initialise counters\n",
        "global_mean = 0\n",
        "global_var = 0\n",
        "global_count = 0\n",
        "\n",
        "# For each file, update the running mean and variance\n",
        "for raw_data in raw_list:\n",
        "    data = raw_data.get_data()\n",
        "    print(\"data\", data.shape)\n",
        "    n = data.shape[1]\n",
        "    # print(\"number of data points:\", n)\n",
        "    local_mean = np.mean(data)\n",
        "    local_var = np.var(data)\n",
        "\n",
        "    # Welford's method for updating mean and variance\n",
        "    delta = local_mean - global_mean\n",
        "    global_mean += delta * n / (global_count + n)\n",
        "    global_var += local_var * n + delta**2 * global_count * n / (global_count + n)\n",
        "    global_count += n\n",
        "\n",
        "# print(\"data:\", data)\n",
        "\n",
        "# Finalize the variance and compute standard deviation\n",
        "global_var /= global_count\n",
        "global_std = np.sqrt(global_var)\n",
        "print(\"global_mean\", global_mean)\n",
        "print(\"global_std\", global_std)\n"
      ]
    },
    {
      "cell_type": "code",
      "source": [],
      "metadata": {
        "id": "ck1IR43lQEbZ"
      },
      "id": "ck1IR43lQEbZ",
      "execution_count": null,
      "outputs": []
    },
    {
      "cell_type": "markdown",
      "source": [
        "### Define SEEGDataset"
      ],
      "metadata": {
        "id": "Cl2YFNql48RL"
      },
      "id": "Cl2YFNql48RL"
    },
    {
      "cell_type": "code",
      "execution_count": null,
      "id": "aec88c19",
      "metadata": {
        "id": "aec88c19"
      },
      "outputs": [],
      "source": [
        "%%capture\n",
        "from typing import List\n",
        "\n",
        "class SEEGDataset(Dataset):\n",
        "    def __init__(self, raw, fs:int, mean:float, std:float, epoch_dur:int=1, bandpass:List[int]=[5, 50]):\n",
        "        \"\"\"\n",
        "        SEEGDataset constructor.\n",
        "\n",
        "        Parameters:\n",
        "        - raw : Raw instance from MNE\n",
        "            The raw EEG data.\n",
        "        - fs : int\n",
        "            Desired sampling frequency.\n",
        "        - mean : float\n",
        "            Mean value for normalization.\n",
        "        - std : float\n",
        "            Standard deviation value for normalization.\n",
        "        - epoch_dur : int, optional\n",
        "            Duration of each epoch/window. Default is 1.\n",
        "        - bandpass : list of int, optional\n",
        "            The frequency range for bandpass filter. Default is [5, 50].\n",
        "        - inference_mode : bool, optional\n",
        "            Flag to determine if the dataset is used for training or inference. Default is False.\n",
        "        \"\"\"\n",
        "\n",
        "        # Filter out channels containing the string \"Ref\"\n",
        "        picks = [chan for chan in raw.info['ch_names'] if \"Ref\" not in chan]\n",
        "\n",
        "        # Retain only the channels in the \"picks\" list\n",
        "        raw.pick(picks, verbose=False)\n",
        "\n",
        "        # Reduce the number of time steps:\n",
        "        # Apply notch and bandpass filters, and resample the data\n",
        "        \"\"\"\n",
        "        Notch Filter: designed to remove specific frequency bands in this case 50Hz\n",
        "         - used to remove noise introduced from the electrical systems.\n",
        "        Bandpass Filter: Frequencies outside of the 5Hz to 50Hz range will be attenuated.\n",
        "        \"\"\"\n",
        "        notch_filters = np.arange(50, bandpass[1], 50)\n",
        "        if len(notch_filters) > 0:\n",
        "            raw.notch_filter(notch_filters, picks=picks, filter_length='auto', phase='zero', verbose=False)\n",
        "        raw.filter(bandpass[0], bandpass[1], fir_design='firwin', verbose=False)\n",
        "        raw.resample(fs, npad=\"auto\")\n",
        "        print(\"filtered raw\", raw.get_data().shape)\n",
        "        # Initialise instance variables\n",
        "        self.raw = raw\n",
        "        self.mean = mean\n",
        "        self.std = std\n",
        "        self.epoch_dur = epoch_dur\n",
        "        self.windows = self._create_windows()\n",
        "\n",
        "    def __len__(self):\n",
        "        \"\"\"\n",
        "        Returns the total number of channel-window combinations.\n",
        "        \"\"\"\n",
        "        return len(self.windows) * len(self.raw.info['ch_names'])\n",
        "\n",
        "    def __getitem__(self, idx):\n",
        "        \"\"\"\n",
        "        Return data for a given index.\n",
        "\n",
        "        Parameters:\n",
        "        - idx : int\n",
        "            The index to retrieve data.\n",
        "\n",
        "        Returns:\n",
        "        - tensor : torch.Tensor\n",
        "            The EEG data for the given index.\n",
        "        \"\"\"\n",
        "        # which channel to pick from\n",
        "        channel_idx = idx // len(self.windows)\n",
        "        # which time window to pick\n",
        "        window_idx = idx % len(self.windows)\n",
        "        win_start, win_end = self.windows[window_idx]\n",
        "        # get the data\n",
        "        X = self.raw.get_data(picks=channel_idx, start=win_start, stop=win_end)\n",
        "        # normalize the data\n",
        "        X = (X - self.mean) / self.std\n",
        "        return torch.tensor(X, dtype=torch.float32)\n",
        "\n",
        "    def _create_windows(self):\n",
        "        \"\"\"\n",
        "        Create windows based on the specified epoch duration.\n",
        "\n",
        "        Returns:\n",
        "        - windows : list of tuple\n",
        "            List of (start, end) sample tuples for each window.\n",
        "        \"\"\"\n",
        "        win_len = int(self.epoch_dur * self.raw.info['sfreq'])\n",
        "        starts = np.arange(0, len(self.raw.times) - win_len, win_len)\n",
        "        ends = starts + win_len\n",
        "        windows = list(zip(starts, ends))\n",
        "        # print(\"windows\", windows)\n",
        "        return windows\n"
      ]
    },
    {
      "cell_type": "code",
      "source": [
        "# raw_list: [np.array(97, 33024), np.array(97, 33024), np.array(97, 33024), ..., np.array(97, 33024)]\n",
        "# raw_list: np.array(90, 97, 33024)\n",
        "\n",
        "# raw_list\n",
        "# dataset = SEEGDataset(raw, 512, mean=global_mean, std=global_std)"
      ],
      "metadata": {
        "id": "x-dsgyfNY0nh"
      },
      "id": "x-dsgyfNY0nh",
      "execution_count": null,
      "outputs": []
    },
    {
      "cell_type": "markdown",
      "source": [
        "### Create patient_loaders"
      ],
      "metadata": {
        "id": "4Bp7xK5b5EPv"
      },
      "id": "4Bp7xK5b5EPv"
    },
    {
      "cell_type": "code",
      "source": [
        "# local_path = \"/Users/leonorlavina/Desktop\"\n",
        "colab_path = \"/content/drive/My Drive/Leonor\"\n",
        "\n",
        "total_folders = len(os.listdir(f'{colab_path}/szdata/'))\n",
        "num_validation = int(0.2 * total_folders)\n",
        "\n",
        "val_patient_data_baseline = {}\n",
        "train_patient_data_baseline = {}\n",
        "\n",
        "# Counter for folders processed\n",
        "counter = 0\n",
        "\n",
        "for patient_folder in os.listdir(f'{colab_path}/szdata/'):\n",
        "    full_path = os.path.join(f'{colab_path}/szdata/', patient_folder)\n",
        "    print(\"Getting folders for\", patient_folder)\n",
        "    if os.path.isdir(full_path):\n",
        "        patient_code_name = patient_folder\n",
        "        edf_paths = glob.glob(os.path.join(full_path, \"*.EDF\"))\n",
        "        raw_list = []\n",
        "        for file_path in edf_paths:\n",
        "            if \"Baseline\" not in file_path:\n",
        "                continue\n",
        "            raw_list.append(mne.io.read_raw_edf(file_path, preload=True, verbose=False))\n",
        "\n",
        "        # Custom data set for patient\n",
        "        dataset = []\n",
        "        for raw in raw_list:\n",
        "            dataset.append(SEEGDataset(raw, fs=512, mean=global_mean, std=global_std, epoch_dur=1, bandpass=[5, 50]))\n",
        "\n",
        "        # Concatenate these datasets\n",
        "        concatenated_dataset = ConcatDataset(dataset)\n",
        "\n",
        "        # Create Dataloader for patient\n",
        "        patient_loader = DataLoader(concatenated_dataset, batch_size=32, shuffle=True)\n",
        "\n",
        "        # Deterministically assign this patient to training or validation set based on the counter\n",
        "        if counter < num_validation:\n",
        "            val_patient_data_baseline[patient_code_name] = patient_loader\n",
        "        else:\n",
        "            train_patient_data_baseline[patient_code_name] = patient_loader\n",
        "\n",
        "        # Increment the counter\n",
        "        counter += 1"
      ],
      "metadata": {
        "id": "OV0VlxydY5c-",
        "colab": {
          "base_uri": "https://localhost:8080/"
        },
        "outputId": "aacc14f1-4c2e-40dd-d3d1-7d557040cc04"
      },
      "id": "OV0VlxydY5c-",
      "execution_count": null,
      "outputs": [
        {
          "output_type": "stream",
          "name": "stdout",
          "text": [
            "Getting folders for KiCl\n",
            "Sampling frequency of the instance is already 512.0, returning unmodified.\n",
            "filtered raw (60, 18176)\n",
            "Sampling frequency of the instance is already 512.0, returning unmodified.\n",
            "filtered raw (60, 18176)\n",
            "Sampling frequency of the instance is already 512.0, returning unmodified.\n",
            "filtered raw (60, 18176)\n",
            "Getting folders for RhKe\n",
            "filtered raw (146, 17024)\n",
            "filtered raw (146, 17024)\n",
            "filtered raw (146, 17024)\n",
            "Getting folders for ArRy\n",
            "filtered raw (117, 17024)\n",
            "filtered raw (117, 17024)\n",
            "filtered raw (117, 17024)\n",
            "Getting folders for SaIs\n",
            "filtered raw (59, 17152)\n",
            "filtered raw (59, 17152)\n",
            "filtered raw (59, 16640)\n",
            "Getting folders for PoSa\n",
            "filtered raw (123, 16512)\n",
            "filtered raw (123, 16512)\n",
            "filtered raw (123, 16512)\n",
            "Getting folders for JaCo\n",
            "Sampling frequency of the instance is already 512.0, returning unmodified.\n",
            "filtered raw (58, 18432)\n",
            "Sampling frequency of the instance is already 512.0, returning unmodified.\n",
            "filtered raw (58, 17408)\n",
            "Sampling frequency of the instance is already 512.0, returning unmodified.\n",
            "filtered raw (58, 18432)\n",
            "Getting folders for TiPe\n",
            "Sampling frequency of the instance is already 512.0, returning unmodified.\n",
            "filtered raw (37, 18432)\n",
            "Sampling frequency of the instance is already 512.0, returning unmodified.\n",
            "filtered raw (37, 17408)\n",
            "Sampling frequency of the instance is already 512.0, returning unmodified.\n",
            "filtered raw (37, 18432)\n",
            "Getting folders for MaBo\n",
            "filtered raw (28, 16512)\n",
            "filtered raw (28, 16512)\n",
            "filtered raw (28, 17024)\n",
            "Getting folders for FaCl\n",
            "filtered raw (55, 17152)\n",
            "filtered raw (55, 17152)\n",
            "filtered raw (55, 16640)\n",
            "Getting folders for IsTa\n",
            "filtered raw (139, 16512)\n",
            "filtered raw (139, 16512)\n",
            "filtered raw (139, 16512)\n",
            "Getting folders for FlRe\n",
            "filtered raw (139, 78528)\n",
            "filtered raw (139, 78528)\n",
            "filtered raw (139, 78528)\n",
            "Getting folders for JoDa\n",
            "filtered raw (56, 17152)\n",
            "filtered raw (56, 16640)\n",
            "filtered raw (56, 16640)\n",
            "Getting folders for JeDo\n",
            "filtered raw (48, 17152)\n",
            "filtered raw (48, 17152)\n",
            "filtered raw (48, 17152)\n",
            "Getting folders for ErMcSt\n",
            "filtered raw (98, 22016)\n",
            "filtered raw (98, 16512)\n",
            "filtered raw (98, 17024)\n",
            "Getting folders for BeNe\n",
            "filtered raw (104, 17024)\n",
            "filtered raw (104, 17024)\n",
            "filtered raw (104, 17024)\n",
            "Getting folders for SoBe\n",
            "filtered raw (47, 16640)\n",
            "filtered raw (47, 17152)\n",
            "filtered raw (47, 17152)\n",
            "Getting folders for RuBa\n",
            "filtered raw (39, 17024)\n",
            "filtered raw (39, 16512)\n",
            "filtered raw (39, 17024)\n",
            "Getting folders for ZaSa\n",
            "filtered raw (140, 17024)\n",
            "filtered raw (140, 17024)\n",
            "filtered raw (140, 17024)\n",
            "Getting folders for JoSk\n",
            "filtered raw (44, 17024)\n",
            "filtered raw (44, 17024)\n",
            "filtered raw (44, 16512)\n",
            "Getting folders for EsCh\n",
            "filtered raw (81, 16512)\n",
            "filtered raw (81, 17024)\n",
            "filtered raw (81, 16512)\n",
            "Getting folders for ChSe\n",
            "filtered raw (143, 17024)\n",
            "filtered raw (143, 17024)\n",
            "filtered raw (143, 16000)\n",
            "Getting folders for UzRa\n",
            "filtered raw (39, 16640)\n",
            "filtered raw (39, 16640)\n",
            "filtered raw (39, 16640)\n",
            "Getting folders for BlMo\n",
            "filtered raw (14, 16640)\n",
            "filtered raw (14, 17152)\n",
            "filtered raw (14, 17152)\n",
            "Getting folders for MaMa\n",
            "filtered raw (16, 16896)\n",
            "filtered raw (16, 17408)\n",
            "filtered raw (16, 16896)\n",
            "Getting folders for ChCr\n",
            "filtered raw (137, 16512)\n",
            "filtered raw (137, 16512)\n",
            "filtered raw (137, 17024)\n",
            "Getting folders for KeVe\n",
            "filtered raw (122, 17024)\n",
            "filtered raw (122, 17024)\n",
            "filtered raw (122, 16512)\n",
            "Getting folders for JoHa\n",
            "filtered raw (96, 16512)\n",
            "filtered raw (96, 17024)\n",
            "filtered raw (96, 17024)\n",
            "Getting folders for MiWa\n",
            "Sampling frequency of the instance is already 512.0, returning unmodified.\n",
            "filtered raw (49, 18432)\n",
            "Sampling frequency of the instance is already 512.0, returning unmodified.\n",
            "filtered raw (49, 17408)\n",
            "Sampling frequency of the instance is already 512.0, returning unmodified.\n",
            "filtered raw (49, 18432)\n",
            "Getting folders for SaKh\n",
            "filtered raw (32, 17152)\n",
            "filtered raw (32, 17152)\n",
            "filtered raw (32, 17152)\n",
            "Getting folders for SeHu\n",
            "filtered raw (35, 16512)\n",
            "filtered raw (35, 16512)\n",
            "filtered raw (35, 16512)\n"
          ]
        }
      ]
    },
    {
      "cell_type": "code",
      "source": [
        "print(\"patients part of validation\", val_patient_data_baseline.keys())\n",
        "print(\"patients part of training\", train_patient_data_baseline.keys())"
      ],
      "metadata": {
        "id": "hNxDNf6C1SFT",
        "colab": {
          "base_uri": "https://localhost:8080/"
        },
        "outputId": "9a5ae533-999e-4820-f2a3-59873fc4cb4e"
      },
      "id": "hNxDNf6C1SFT",
      "execution_count": null,
      "outputs": [
        {
          "output_type": "stream",
          "name": "stdout",
          "text": [
            "patients part of validation dict_keys(['KiCl', 'RhKe', 'ArRy', 'SaIs', 'PoSa', 'JaCo'])\n",
            "patients part of training dict_keys(['TiPe', 'MaBo', 'FaCl', 'IsTa', 'FlRe', 'JoDa', 'JeDo', 'ErMcSt', 'BeNe', 'SoBe', 'RuBa', 'ZaSa', 'JoSk', 'EsCh', 'ChSe', 'UzRa', 'BlMo', 'MaMa', 'ChCr', 'KeVe', 'JoHa', 'MiWa', 'SaKh', 'SeHu'])\n"
          ]
        }
      ]
    },
    {
      "cell_type": "code",
      "source": [
        "for patient_code_name, patient_loader in train_patient_data.items():\n",
        "    print(f\"{patient_code_name}\")\n",
        "    print(\"number of batches:\", len(patient_loader))\n",
        "    first_batch = next(iter(patient_loader))\n",
        "    # print(\"shape of the batch\", first_batch.shape) # (num_batches, 1, window_size)\n",
        "    # print(\"shape of the data\", first_batch[0].shape) # (1, window_size)\n",
        "print(train_patient_data.keys())"
      ],
      "metadata": {
        "id": "o8qW0a2CiJny",
        "colab": {
          "base_uri": "https://localhost:8080/",
          "height": 246
        },
        "outputId": "cb440ff7-c4de-448c-9340-c4bf0923db62"
      },
      "id": "o8qW0a2CiJny",
      "execution_count": null,
      "outputs": [
        {
          "output_type": "error",
          "ename": "NameError",
          "evalue": "ignored",
          "traceback": [
            "\u001b[0;31m---------------------------------------------------------------------------\u001b[0m",
            "\u001b[0;31mNameError\u001b[0m                                 Traceback (most recent call last)",
            "\u001b[0;32m<ipython-input-180-e9efa4af1728>\u001b[0m in \u001b[0;36m<cell line: 1>\u001b[0;34m()\u001b[0m\n\u001b[0;32m----> 1\u001b[0;31m \u001b[0;32mfor\u001b[0m \u001b[0mpatient_code_name\u001b[0m\u001b[0;34m,\u001b[0m \u001b[0mpatient_loader\u001b[0m \u001b[0;32min\u001b[0m \u001b[0mtrain_patient_data\u001b[0m\u001b[0;34m.\u001b[0m\u001b[0mitems\u001b[0m\u001b[0;34m(\u001b[0m\u001b[0;34m)\u001b[0m\u001b[0;34m:\u001b[0m\u001b[0;34m\u001b[0m\u001b[0;34m\u001b[0m\u001b[0m\n\u001b[0m\u001b[1;32m      2\u001b[0m     \u001b[0mprint\u001b[0m\u001b[0;34m(\u001b[0m\u001b[0;34mf\"{patient_code_name}\"\u001b[0m\u001b[0;34m)\u001b[0m\u001b[0;34m\u001b[0m\u001b[0;34m\u001b[0m\u001b[0m\n\u001b[1;32m      3\u001b[0m     \u001b[0mprint\u001b[0m\u001b[0;34m(\u001b[0m\u001b[0;34m\"number of batches:\"\u001b[0m\u001b[0;34m,\u001b[0m \u001b[0mlen\u001b[0m\u001b[0;34m(\u001b[0m\u001b[0mpatient_loader\u001b[0m\u001b[0;34m)\u001b[0m\u001b[0;34m)\u001b[0m\u001b[0;34m\u001b[0m\u001b[0;34m\u001b[0m\u001b[0m\n\u001b[1;32m      4\u001b[0m     \u001b[0mfirst_batch\u001b[0m \u001b[0;34m=\u001b[0m \u001b[0mnext\u001b[0m\u001b[0;34m(\u001b[0m\u001b[0miter\u001b[0m\u001b[0;34m(\u001b[0m\u001b[0mpatient_loader\u001b[0m\u001b[0;34m)\u001b[0m\u001b[0;34m)\u001b[0m\u001b[0;34m\u001b[0m\u001b[0;34m\u001b[0m\u001b[0m\n\u001b[1;32m      5\u001b[0m     \u001b[0;31m# print(\"shape of the batch\", first_batch.shape) # (num_batches, 1, window_size)\u001b[0m\u001b[0;34m\u001b[0m\u001b[0;34m\u001b[0m\u001b[0m\n",
            "\u001b[0;31mNameError\u001b[0m: name 'train_patient_data' is not defined"
          ]
        }
      ]
    },
    {
      "cell_type": "markdown",
      "source": [
        "### Split Train & Val"
      ],
      "metadata": {
        "id": "fgn9e6HI5bjX"
      },
      "id": "fgn9e6HI5bjX"
    },
    {
      "cell_type": "code",
      "source": [
        "# split between training and validation\n",
        "\n",
        "def split_data(data_path, pattern=\"**/*Baseline.EDF\", train_len=0.8):\n",
        "    file_paths = glob.glob(os.path.join(data_path, pattern), recursive=True)\n",
        "    all_train_datasets = []\n",
        "    all_val_datasets = []\n",
        "\n",
        "    for file_path in file_paths:\n",
        "        raw = mne.io.read_raw_edf(file_path, preload=True, verbose=False)\n",
        "        dataset = SEEGDataset(raw, 512, mean=global_mean, std=global_std)\n",
        "        # print(\"dataset.raw.shape\", dataset.raw.get_data().shape)\n",
        "        # print(\"len(dataset)\", len(dataset))\n",
        "        train_size = int(train_len * len(dataset))\n",
        "        val_size = len(dataset) - train_size\n",
        "        train_dataset, val_dataset = random_split(dataset, [train_size, val_size])\n",
        "        # print(\"train_dataset.shape\", len(train_dataset))\n",
        "        # print(\"val_dataset.shape\", len(val_dataset))\n",
        "\n",
        "        all_train_datasets.append(train_dataset)\n",
        "        all_val_datasets.append(val_dataset)\n",
        "\n",
        "    print(\"len(all_train_datasets)\", len(all_train_datasets))\n",
        "    print(\"len(all_val_datasets)\", len(all_val_datasets))\n",
        "\n",
        "    train_dataset_combined = ConcatDataset(all_train_datasets)\n",
        "    val_dataset_combined = ConcatDataset(all_val_datasets)\n",
        "\n",
        "    train_loader = DataLoader(train_dataset_combined, batch_size=32, shuffle=True)\n",
        "    val_loader = DataLoader(val_dataset_combined, batch_size=32)\n",
        "\n",
        "    return train_loader, val_loader\n",
        "\n",
        "\n",
        "train_loader, val_loader = split_data(data_path, pattern=\"**/*Baseline.EDF\", train_len=0.8)\n",
        "print(\"number of training batches:\", len(train_loader))\n",
        "print(\"number of validation batches:\", len(val_loader))"
      ],
      "metadata": {
        "id": "hRdnAIHQQl7z",
        "colab": {
          "base_uri": "https://localhost:8080/"
        },
        "outputId": "028e7f2b-aa23-43f4-cbad-85d25035f971"
      },
      "id": "hRdnAIHQQl7z",
      "execution_count": null,
      "outputs": [
        {
          "output_type": "stream",
          "name": "stdout",
          "text": [
            "Sampling frequency of the instance is already 512.0, returning unmodified.\n",
            "filtered raw (60, 18176)\n",
            "Sampling frequency of the instance is already 512.0, returning unmodified.\n",
            "filtered raw (60, 18176)\n",
            "Sampling frequency of the instance is already 512.0, returning unmodified.\n",
            "filtered raw (60, 18176)\n",
            "filtered raw (146, 17024)\n",
            "filtered raw (146, 17024)\n",
            "filtered raw (146, 17024)\n",
            "filtered raw (117, 17024)\n",
            "filtered raw (117, 17024)\n",
            "filtered raw (117, 17024)\n",
            "filtered raw (59, 17152)\n",
            "filtered raw (59, 17152)\n",
            "filtered raw (59, 16640)\n",
            "filtered raw (123, 16512)\n",
            "filtered raw (123, 16512)\n",
            "filtered raw (123, 16512)\n",
            "Sampling frequency of the instance is already 512.0, returning unmodified.\n",
            "filtered raw (58, 18432)\n",
            "Sampling frequency of the instance is already 512.0, returning unmodified.\n",
            "filtered raw (58, 17408)\n",
            "Sampling frequency of the instance is already 512.0, returning unmodified.\n",
            "filtered raw (58, 18432)\n",
            "Sampling frequency of the instance is already 512.0, returning unmodified.\n",
            "filtered raw (37, 18432)\n",
            "Sampling frequency of the instance is already 512.0, returning unmodified.\n",
            "filtered raw (37, 17408)\n",
            "Sampling frequency of the instance is already 512.0, returning unmodified.\n",
            "filtered raw (37, 18432)\n",
            "filtered raw (28, 16512)\n",
            "filtered raw (28, 16512)\n",
            "filtered raw (28, 17024)\n",
            "filtered raw (55, 17152)\n",
            "filtered raw (55, 17152)\n",
            "filtered raw (55, 16640)\n",
            "filtered raw (139, 16512)\n",
            "filtered raw (139, 16512)\n",
            "filtered raw (139, 16512)\n"
          ]
        }
      ]
    },
    {
      "cell_type": "code",
      "source": [
        "# Checkout how the inputs look like\n",
        "first_batch = next(iter(train_loader))\n",
        "print(\"shape of the batch\", first_batch.shape) # (num_batches, 1, window_size)\n",
        "print(\"shape of the data\", first_batch[0].shape) # (1, window_size)"
      ],
      "metadata": {
        "id": "aApzQyLRSuI6",
        "colab": {
          "base_uri": "https://localhost:8080/"
        },
        "outputId": "68e825ff-2364-44f5-fbe3-d4e0bfce5c2e"
      },
      "id": "aApzQyLRSuI6",
      "execution_count": null,
      "outputs": [
        {
          "output_type": "stream",
          "name": "stdout",
          "text": [
            "shape of the batch torch.Size([32, 1, 512])\n",
            "shape of the data torch.Size([1, 512])\n"
          ]
        }
      ]
    },
    {
      "cell_type": "markdown",
      "source": [
        "## Training"
      ],
      "metadata": {
        "id": "2Nx3YCdS5jI5"
      },
      "id": "2Nx3YCdS5jI5"
    },
    {
      "cell_type": "markdown",
      "source": [
        "### Define AnomalyDetector"
      ],
      "metadata": {
        "id": "fGbU_CBq4wua"
      },
      "id": "fGbU_CBq4wua"
    },
    {
      "cell_type": "code",
      "execution_count": null,
      "id": "ccdb59c7",
      "metadata": {
        "id": "ccdb59c7"
      },
      "outputs": [],
      "source": [
        "class AnomalyDetector(nn.Module):\n",
        "    \"\"\"\n",
        "    A simple convolutional autoencoder model for anomaly detection.\n",
        "    Autoencoders aim to reconstruct their input data.\n",
        "    \"\"\"\n",
        "    def __init__(self, input_channels):\n",
        "        super(AnomalyDetector, self).__init__()\n",
        "        self.conv1 = nn.Conv1d(input_channels, 16, kernel_size=5, stride=2, padding=2)\n",
        "        self.conv2 = nn.Conv1d(16, 8, kernel_size=5, stride=2, padding=2)\n",
        "        self.deconv1 = nn.ConvTranspose1d(8, 16, kernel_size=5, stride=2, padding=2, output_padding=1)\n",
        "        self.deconv2 = nn.ConvTranspose1d(16, input_channels, kernel_size=5, stride=2, padding=2, output_padding=1)\n",
        "\n",
        "        # Activation function\n",
        "        self.relu = nn.ReLU()\n",
        "\n",
        "        # Dropout layer to prevent overfitting\n",
        "        self.dropout = nn.Dropout(0.5)\n",
        "\n",
        "    def forward(self, x):\n",
        "        \"\"\"\n",
        "        Forward pass through the model.\n",
        "        Parameters:\n",
        "        - x (torch.Tensor): Input tensor.\n",
        "        Returns:\n",
        "        - x (torch.Tensor): Reconstructed output tensor with shape (6, 1, 512)\n",
        "        \"\"\"\n",
        "        # Encoder\n",
        "        x = self.relu(self.conv1(x))  # First convolutional layer with ReLU activation\n",
        "        x = self.dropout(x)           # Dropout to introduce regularization\n",
        "        x = self.relu(self.conv2(x))  # Second convolutional layer with ReLU activation\n",
        "        x = self.dropout(x)           # Another dropout\n",
        "\n",
        "        # Decoder\n",
        "        x = self.relu(self.deconv1(x))  # First deconvolutional layer with ReLU activation\n",
        "        x = self.dropout(x)             # Dropout before the final layer\n",
        "        x = self.deconv2(x)             # Second deconvolutional layer\n",
        "\n",
        "        return x\n"
      ]
    },
    {
      "cell_type": "markdown",
      "source": [
        "### Training AnomalyDetector"
      ],
      "metadata": {
        "id": "JNIaYXQy4047"
      },
      "id": "JNIaYXQy4047"
    },
    {
      "cell_type": "code",
      "execution_count": null,
      "id": "c7fd0589",
      "metadata": {
        "id": "c7fd0589",
        "scrolled": false,
        "colab": {
          "base_uri": "https://localhost:8080/",
          "height": 599
        },
        "outputId": "f40ab024-ccf3-4d3d-fa15-c1d5aa74b18f"
      },
      "outputs": [
        {
          "output_type": "error",
          "ename": "FileNotFoundError",
          "evalue": "ignored",
          "traceback": [
            "\u001b[0;31m---------------------------------------------------------------------------\u001b[0m",
            "\u001b[0;31mFileNotFoundError\u001b[0m                         Traceback (most recent call last)",
            "\u001b[0;32m<ipython-input-182-6d72a135a2dc>\u001b[0m in \u001b[0;36m<cell line: 87>\u001b[0;34m()\u001b[0m\n\u001b[1;32m     85\u001b[0m \u001b[0;34m\u001b[0m\u001b[0m\n\u001b[1;32m     86\u001b[0m \u001b[0;31m# Load the saved weights, regardless of whether or not a new model was trained\u001b[0m\u001b[0;34m\u001b[0m\u001b[0;34m\u001b[0m\u001b[0m\n\u001b[0;32m---> 87\u001b[0;31m \u001b[0mmodel\u001b[0m\u001b[0;34m.\u001b[0m\u001b[0mload_state_dict\u001b[0m\u001b[0;34m(\u001b[0m\u001b[0mtorch\u001b[0m\u001b[0;34m.\u001b[0m\u001b[0mload\u001b[0m\u001b[0;34m(\u001b[0m\u001b[0mweights_path\u001b[0m\u001b[0;34m)\u001b[0m\u001b[0;34m)\u001b[0m\u001b[0;34m\u001b[0m\u001b[0;34m\u001b[0m\u001b[0m\n\u001b[0m",
            "\u001b[0;32m/usr/local/lib/python3.10/dist-packages/torch/serialization.py\u001b[0m in \u001b[0;36mload\u001b[0;34m(f, map_location, pickle_module, weights_only, **pickle_load_args)\u001b[0m\n\u001b[1;32m    789\u001b[0m         \u001b[0mpickle_load_args\u001b[0m\u001b[0;34m[\u001b[0m\u001b[0;34m'encoding'\u001b[0m\u001b[0;34m]\u001b[0m \u001b[0;34m=\u001b[0m \u001b[0;34m'utf-8'\u001b[0m\u001b[0;34m\u001b[0m\u001b[0;34m\u001b[0m\u001b[0m\n\u001b[1;32m    790\u001b[0m \u001b[0;34m\u001b[0m\u001b[0m\n\u001b[0;32m--> 791\u001b[0;31m     \u001b[0;32mwith\u001b[0m \u001b[0m_open_file_like\u001b[0m\u001b[0;34m(\u001b[0m\u001b[0mf\u001b[0m\u001b[0;34m,\u001b[0m \u001b[0;34m'rb'\u001b[0m\u001b[0;34m)\u001b[0m \u001b[0;32mas\u001b[0m \u001b[0mopened_file\u001b[0m\u001b[0;34m:\u001b[0m\u001b[0;34m\u001b[0m\u001b[0;34m\u001b[0m\u001b[0m\n\u001b[0m\u001b[1;32m    792\u001b[0m         \u001b[0;32mif\u001b[0m \u001b[0m_is_zipfile\u001b[0m\u001b[0;34m(\u001b[0m\u001b[0mopened_file\u001b[0m\u001b[0;34m)\u001b[0m\u001b[0;34m:\u001b[0m\u001b[0;34m\u001b[0m\u001b[0;34m\u001b[0m\u001b[0m\n\u001b[1;32m    793\u001b[0m             \u001b[0;31m# The zipfile reader is going to advance the current file position.\u001b[0m\u001b[0;34m\u001b[0m\u001b[0;34m\u001b[0m\u001b[0m\n",
            "\u001b[0;32m/usr/local/lib/python3.10/dist-packages/torch/serialization.py\u001b[0m in \u001b[0;36m_open_file_like\u001b[0;34m(name_or_buffer, mode)\u001b[0m\n\u001b[1;32m    269\u001b[0m \u001b[0;32mdef\u001b[0m \u001b[0m_open_file_like\u001b[0m\u001b[0;34m(\u001b[0m\u001b[0mname_or_buffer\u001b[0m\u001b[0;34m,\u001b[0m \u001b[0mmode\u001b[0m\u001b[0;34m)\u001b[0m\u001b[0;34m:\u001b[0m\u001b[0;34m\u001b[0m\u001b[0;34m\u001b[0m\u001b[0m\n\u001b[1;32m    270\u001b[0m     \u001b[0;32mif\u001b[0m \u001b[0m_is_path\u001b[0m\u001b[0;34m(\u001b[0m\u001b[0mname_or_buffer\u001b[0m\u001b[0;34m)\u001b[0m\u001b[0;34m:\u001b[0m\u001b[0;34m\u001b[0m\u001b[0;34m\u001b[0m\u001b[0m\n\u001b[0;32m--> 271\u001b[0;31m         \u001b[0;32mreturn\u001b[0m \u001b[0m_open_file\u001b[0m\u001b[0;34m(\u001b[0m\u001b[0mname_or_buffer\u001b[0m\u001b[0;34m,\u001b[0m \u001b[0mmode\u001b[0m\u001b[0;34m)\u001b[0m\u001b[0;34m\u001b[0m\u001b[0;34m\u001b[0m\u001b[0m\n\u001b[0m\u001b[1;32m    272\u001b[0m     \u001b[0;32melse\u001b[0m\u001b[0;34m:\u001b[0m\u001b[0;34m\u001b[0m\u001b[0;34m\u001b[0m\u001b[0m\n\u001b[1;32m    273\u001b[0m         \u001b[0;32mif\u001b[0m \u001b[0;34m'w'\u001b[0m \u001b[0;32min\u001b[0m \u001b[0mmode\u001b[0m\u001b[0;34m:\u001b[0m\u001b[0;34m\u001b[0m\u001b[0;34m\u001b[0m\u001b[0m\n",
            "\u001b[0;32m/usr/local/lib/python3.10/dist-packages/torch/serialization.py\u001b[0m in \u001b[0;36m__init__\u001b[0;34m(self, name, mode)\u001b[0m\n\u001b[1;32m    250\u001b[0m \u001b[0;32mclass\u001b[0m \u001b[0m_open_file\u001b[0m\u001b[0;34m(\u001b[0m\u001b[0m_opener\u001b[0m\u001b[0;34m)\u001b[0m\u001b[0;34m:\u001b[0m\u001b[0;34m\u001b[0m\u001b[0;34m\u001b[0m\u001b[0m\n\u001b[1;32m    251\u001b[0m     \u001b[0;32mdef\u001b[0m \u001b[0m__init__\u001b[0m\u001b[0;34m(\u001b[0m\u001b[0mself\u001b[0m\u001b[0;34m,\u001b[0m \u001b[0mname\u001b[0m\u001b[0;34m,\u001b[0m \u001b[0mmode\u001b[0m\u001b[0;34m)\u001b[0m\u001b[0;34m:\u001b[0m\u001b[0;34m\u001b[0m\u001b[0;34m\u001b[0m\u001b[0m\n\u001b[0;32m--> 252\u001b[0;31m         \u001b[0msuper\u001b[0m\u001b[0;34m(\u001b[0m\u001b[0;34m)\u001b[0m\u001b[0;34m.\u001b[0m\u001b[0m__init__\u001b[0m\u001b[0;34m(\u001b[0m\u001b[0mopen\u001b[0m\u001b[0;34m(\u001b[0m\u001b[0mname\u001b[0m\u001b[0;34m,\u001b[0m \u001b[0mmode\u001b[0m\u001b[0;34m)\u001b[0m\u001b[0;34m)\u001b[0m\u001b[0;34m\u001b[0m\u001b[0;34m\u001b[0m\u001b[0m\n\u001b[0m\u001b[1;32m    253\u001b[0m \u001b[0;34m\u001b[0m\u001b[0m\n\u001b[1;32m    254\u001b[0m     \u001b[0;32mdef\u001b[0m \u001b[0m__exit__\u001b[0m\u001b[0;34m(\u001b[0m\u001b[0mself\u001b[0m\u001b[0;34m,\u001b[0m \u001b[0;34m*\u001b[0m\u001b[0margs\u001b[0m\u001b[0;34m)\u001b[0m\u001b[0;34m:\u001b[0m\u001b[0;34m\u001b[0m\u001b[0;34m\u001b[0m\u001b[0m\n",
            "\u001b[0;31mFileNotFoundError\u001b[0m: [Errno 2] No such file or directory: 'best_weights.pth'"
          ]
        }
      ],
      "source": [
        "import glob\n",
        "\n",
        "# Initialise the model and move it to the desired device (CPU/GPU)\n",
        "model = AnomalyDetector(input_channels=1).to(device)\n",
        "\n",
        "# If training a model, do so, and either way load a model from pre-specified path\n",
        "if training_mode:\n",
        "\n",
        "    # Define the loss function and optimizer\n",
        "    criterion = nn.MSELoss()\n",
        "    optimizer = optim.Adam(model.parameters(), lr=0.001)\n",
        "\n",
        "    num_epochs = 100  # Increase max epochs as early stopping will halt training once no improvement is seen\n",
        "\n",
        "    # Lists to keep track of training and validation losses\n",
        "    train_losses = []\n",
        "    val_losses = []\n",
        "\n",
        "    # Variables for early stopping\n",
        "    patience = 5  # Number of epochs to wait before stopping training if no improvement\n",
        "    n_bad_epochs = 0  # Counter for epochs without improvement\n",
        "    best_val_loss = float('inf')  # Set initial best validation loss to infinity\n",
        "\n",
        "    # Training and validation loop\n",
        "    for epoch in range(num_epochs):\n",
        "\n",
        "        # --- Training Phase ---\n",
        "        model.train()\n",
        "        train_loss_epoch = []\n",
        "\n",
        "        train_loader, val_loader = split_data(data_path, pattern=\"**/*Baseline.EDF\", train_len=0.8)\n",
        "        # Loop over each batch in the training DataLoader\n",
        "        for batch in tqdm(train_loader, desc=f\"Training Epoch {epoch+1}\", position=0, leave=True):\n",
        "            inputs = batch.to(device)  # Move input data to device\n",
        "\n",
        "            # Zero the gradients\n",
        "            optimizer.zero_grad()\n",
        "\n",
        "            # Forward pass\n",
        "            outputs = model(inputs)\n",
        "            loss = criterion(outputs, inputs)\n",
        "\n",
        "            # Backward pass and optimization\n",
        "            loss.backward()\n",
        "            optimizer.step()\n",
        "\n",
        "            train_loss_epoch.append(loss.item())\n",
        "\n",
        "        # Compute and store the average training loss for the epoch\n",
        "        avg_train_loss = sum(train_loss_epoch) / len(train_loss_epoch)\n",
        "        train_losses.append(avg_train_loss)\n",
        "        print()\n",
        "\n",
        "        # --- Validation Phase ---\n",
        "\n",
        "        model.eval()  # Set the model to evaluation mode\n",
        "        val_loss_epoch = []\n",
        "\n",
        "        # Loop over each batch in the validation DataLoader\n",
        "        with torch.no_grad():\n",
        "            for batch in tqdm(val_loader, desc=f\"Validation Epoch {epoch+1}\", position=0, leave=True):\n",
        "                inputs = batch.to(device)\n",
        "                outputs = model(inputs)\n",
        "                loss = criterion(outputs, inputs)\n",
        "                val_loss_epoch.append(loss.item())\n",
        "\n",
        "        avg_val_loss = sum(val_loss_epoch) / len(val_loss_epoch)\n",
        "        val_losses.append(avg_val_loss)\n",
        "        print(f\"Epoch {epoch+1}/{num_epochs} - Training Loss: {avg_train_loss:.4f}, Validation Loss: {avg_val_loss:.4f}\")\n",
        "\n",
        "        # --- Early Stopping Check ---\n",
        "\n",
        "        # Compute and store the average validation loss for the epoch\n",
        "        if avg_val_loss < best_val_loss:\n",
        "            # Save the best model weights\n",
        "            torch.save(model.state_dict(), weights_path)\n",
        "            best_val_loss = avg_val_loss\n",
        "            n_bad_epochs = 0  # Reset counter\n",
        "        else:\n",
        "            n_bad_epochs += 1\n",
        "\n",
        "        if n_bad_epochs >= patience:\n",
        "            print(\"Early stopping triggered!\")\n",
        "            break  # Stop training\n",
        "\n",
        "# Load the saved weights, regardless of whether or not a new model was trained\n",
        "model.load_state_dict(torch.load(weights_path))"
      ]
    },
    {
      "cell_type": "markdown",
      "source": [
        "### Load model"
      ],
      "metadata": {
        "id": "V1uKpyLjCiUn"
      },
      "id": "V1uKpyLjCiUn"
    },
    {
      "cell_type": "code",
      "source": [
        "# Given that we have already trained the model there's no need to retrain\n",
        "model_weights_path = f\"{colab_path}/best_weights.pth\"\n",
        "\n",
        "# Create an instance of the model\n",
        "model = AnomalyDetector(input_channels=1).to(device)\n",
        "\n",
        "# Load the saved weights into the model\n",
        "weights = torch.load(model_weights_path, map_location=device)\n",
        "model.load_state_dict(weights)\n",
        "\n",
        "# Make sure you switch the model to evaluation mode if you're performing inference\n",
        "model.eval()"
      ],
      "metadata": {
        "id": "_b5U8453Clv4",
        "colab": {
          "base_uri": "https://localhost:8080/"
        },
        "outputId": "301f1370-1ca1-4fdd-b148-df4b2136dcbd"
      },
      "id": "_b5U8453Clv4",
      "execution_count": null,
      "outputs": [
        {
          "output_type": "execute_result",
          "data": {
            "text/plain": [
              "AnomalyDetector(\n",
              "  (conv1): Conv1d(1, 16, kernel_size=(5,), stride=(2,), padding=(2,))\n",
              "  (conv2): Conv1d(16, 8, kernel_size=(5,), stride=(2,), padding=(2,))\n",
              "  (deconv1): ConvTranspose1d(8, 16, kernel_size=(5,), stride=(2,), padding=(2,), output_padding=(1,))\n",
              "  (deconv2): ConvTranspose1d(16, 1, kernel_size=(5,), stride=(2,), padding=(2,), output_padding=(1,))\n",
              "  (relu): ReLU()\n",
              "  (dropout): Dropout(p=0.5, inplace=False)\n",
              ")"
            ]
          },
          "metadata": {},
          "execution_count": 26
        }
      ]
    },
    {
      "cell_type": "markdown",
      "source": [
        "## Calculate Thresholds"
      ],
      "metadata": {
        "id": "W7i15z-_5ppD"
      },
      "id": "W7i15z-_5ppD"
    },
    {
      "cell_type": "markdown",
      "source": [
        "##### Calculate patient_thresholds"
      ],
      "metadata": {
        "id": "3W59-FhMIYUV"
      },
      "id": "3W59-FhMIYUV"
    },
    {
      "cell_type": "code",
      "execution_count": null,
      "id": "7696cf8a",
      "metadata": {
        "scrolled": true,
        "id": "7696cf8a",
        "colab": {
          "base_uri": "https://localhost:8080/"
        },
        "outputId": "759018a6-979b-49ba-e4e9-e5cf6d94b8f6"
      },
      "outputs": [
        {
          "output_type": "stream",
          "name": "stdout",
          "text": [
            "Anomaly Threshold for patient TiPe: 0.006915631116431044\n",
            "Anomaly Threshold for patient MaBo: 0.00123087927852049\n",
            "Anomaly Threshold for patient FaCl: 0.011862765644360363\n",
            "Anomaly Threshold for patient IsTa: 0.0037287790235537724\n",
            "Anomaly Threshold for patient FlRe: 0.002684343661826155\n",
            "Anomaly Threshold for patient JoDa: 0.005172092700191402\n",
            "Anomaly Threshold for patient JeDo: 0.010948223324445122\n",
            "Anomaly Threshold for patient ErMcSt: 0.013483289020214857\n",
            "Anomaly Threshold for patient BeNe: 0.0010994024492173527\n",
            "Anomaly Threshold for patient SoBe: 0.014074633396716416\n",
            "Anomaly Threshold for patient RuBa: 0.006775974124999743\n",
            "Anomaly Threshold for patient ZaSa: 0.0030981160107576996\n",
            "Anomaly Threshold for patient JoSk: 0.0024614480768842726\n",
            "Anomaly Threshold for patient EsCh: 0.013589975810302964\n",
            "Anomaly Threshold for patient ChSe: 0.03427610557414297\n",
            "Anomaly Threshold for patient UzRa: 0.0110675449853577\n",
            "Anomaly Threshold for patient BlMo: 0.0015376122459556335\n",
            "Anomaly Threshold for patient MaMa: 0.0013075322016657042\n",
            "Anomaly Threshold for patient ChCr: 0.0016465740458060049\n",
            "Anomaly Threshold for patient KeVe: 0.0028453441428347844\n",
            "Anomaly Threshold for patient JoHa: 0.0026577900406963787\n",
            "Anomaly Threshold for patient MiWa: 0.025983377150868243\n",
            "Anomaly Threshold for patient SaKh: 0.002952637823716604\n",
            "Anomaly Threshold for patient SeHu: 0.015585520446830047\n"
          ]
        }
      ],
      "source": [
        "# Initialise a dictionary to store the thresholds\n",
        "patient_thresholds = {}\n",
        "\n",
        "criterion = nn.MSELoss()\n",
        "\n",
        "# Initialize a counter for patient number\n",
        "patient_number = 1\n",
        "\n",
        "# Loop through each patient's data\n",
        "for patient_id, patient_loader in train_patient_data_baseline.items():\n",
        "    train_mses = []\n",
        "\n",
        "    # Loop through each batch to calculate MSE for this patient\n",
        "    for batch in patient_loader:\n",
        "        # batch: [32, 1, 512]\n",
        "        inputs = batch.to(device) # Move input data to device\n",
        "        outputs = model(inputs)\n",
        "        mse = criterion(outputs, inputs).item()\n",
        "        train_mses.append(mse)\n",
        "\n",
        "    # Calculate mean and standard deviation of MSE for this patient\n",
        "    mean_train_mse = np.mean(train_mses)\n",
        "    std_train_mse = np.std(train_mses)\n",
        "    # print(\"mean_train_mse\", mean_train_mse)\n",
        "    # print(\"std_train_mse\", std_train_mse)\n",
        "\n",
        "    # Calculate the anomaly threshold for this patient\n",
        "    threshold_multiplier = 1.5  # This value is not yet fixed\n",
        "    anomaly_threshold = mean_train_mse + threshold_multiplier * std_train_mse\n",
        "\n",
        "    # Store the threshold\n",
        "    patient_thresholds[patient_id] = anomaly_threshold\n",
        "\n",
        "    # Print the threshold for this patient\n",
        "    print(f\"Anomaly Threshold for patient {patient_id}: {anomaly_threshold}\")\n",
        "\n",
        "    # Increment the patient_number counter\n",
        "    patient_number += 1\n"
      ]
    },
    {
      "cell_type": "code",
      "source": [],
      "metadata": {
        "id": "waUfdDDqBR_2"
      },
      "id": "waUfdDDqBR_2",
      "execution_count": null,
      "outputs": []
    },
    {
      "cell_type": "code",
      "source": [
        "# Save patient_thresholds in Google Drive\n",
        "import pickle\n",
        "patient_thresholds_path = f\"{colab_path}/patient_thresholds.pkl\"\n",
        "\n",
        "with open(patient_thresholds_path, 'wb') as file:\n",
        "    pickle.dump(patient_thresholds, file)"
      ],
      "metadata": {
        "id": "2Qa_aZsuGUc8"
      },
      "id": "2Qa_aZsuGUc8",
      "execution_count": null,
      "outputs": []
    },
    {
      "cell_type": "markdown",
      "source": [
        "##### Load patient_thresholds"
      ],
      "metadata": {
        "id": "cmpmDFScIdbs"
      },
      "id": "cmpmDFScIdbs"
    },
    {
      "cell_type": "code",
      "source": [
        "# If we have already calculate the patient_thresholds we can load it directly from Google Drive\n",
        "import pickle\n",
        "\n",
        "patient_thresholds_path = f\"{colab_path}/patient_thresholds.pkl\"\n",
        "\n",
        "with open(patient_thresholds_path, 'rb') as file:\n",
        "    patient_thresholds = pickle.load(file)\n",
        "\n",
        "print(patient_thresholds)"
      ],
      "metadata": {
        "id": "7a9lLqd5Ig2-",
        "colab": {
          "base_uri": "https://localhost:8080/"
        },
        "outputId": "9c093028-14d2-4904-bf8e-a5cedce6ef85"
      },
      "id": "7a9lLqd5Ig2-",
      "execution_count": null,
      "outputs": [
        {
          "output_type": "stream",
          "name": "stdout",
          "text": [
            "{'TiPe': 0.04951544862952203, 'MaBo': 0.07444218625931995, 'FaCl': 0.055041392105266804, 'IsTa': 0.24796370678986174, 'FlRe': 0.0444590190702732, 'JoDa': 0.004167069012315195, 'JeDo': 0.02681832042157916, 'ErMcSt': 0.07960168099266675, 'BeNe': 0.01132915392389406, 'SoBe': 0.0805603663656935, 'RuBa': 0.3652189308743852, 'ZaSa': 0.00839969710540451, 'JoSk': 0.15820192686466794, 'EsCh': 0.05441049115345445, 'ChSe': 0.34579429950430973, 'UzRa': 0.14295148964813129, 'BlMo': 0.003421873812286872, 'MaMa': 0.16245260033295209, 'ChCr': 0.22692827669357876, 'KeVe': 0.02961429106340344, 'JoHa': 0.04284851108374454, 'MiWa': 0.045109631015012606, 'SaKh': 0.004672657885686856, 'SeHu': 0.251628813008566}\n"
          ]
        }
      ]
    },
    {
      "cell_type": "markdown",
      "source": [
        "##### Load manual labels"
      ],
      "metadata": {
        "id": "7FeiONhU5vN3"
      },
      "id": "7FeiONhU5vN3"
    },
    {
      "cell_type": "code",
      "execution_count": null,
      "id": "bb1d4979",
      "metadata": {
        "id": "bb1d4979"
      },
      "outputs": [],
      "source": [
        "# importing manual labels\n",
        "import json\n",
        "\n",
        "with open(f'{colab_path}/new_all_patients_data.json', 'r') as file:\n",
        "    data = json.load(file)\n",
        "\n",
        "# print(data)\n",
        "\n",
        "# print(\"{\")\n",
        "# for key, value in data.items():\n",
        "#     print(f\"    '{key}': {{\")\n",
        "#     for sub_key, sub_value in value.items():\n",
        "#         items = ', '.join([f\"'{item}'\" for item in sub_value])\n",
        "#         print(f\"        '{sub_key}': [{items}],\")\n",
        "#     print(\"    }\")\n",
        "\n",
        "# print(\"}\")\n"
      ]
    },
    {
      "cell_type": "code",
      "execution_count": null,
      "id": "c265385c",
      "metadata": {
        "id": "c265385c",
        "colab": {
          "base_uri": "https://localhost:8080/"
        },
        "outputId": "e949e010-ab12-4d7c-dfe2-5ee3d168cf65"
      },
      "outputs": [
        {
          "output_type": "stream",
          "name": "stdout",
          "text": [
            "}\n",
            "    'ArRy': {'EEG F9-F8', 'EEG F2-F1', 'EEG G3-G1', 'EEG E17-E16', 'EEG E16-E15', 'EEG F4-F3', 'EEG G3-G2', 'EEG E14-E13', 'EEG E13-E12', 'EEG F8-F7', 'EEG F7-F6', 'EEG O3-O2', 'EEG F10-F9', 'EEG F5-F4'}\n",
            "    'BeNe': {'EEG J2-J1', 'EEG K2-K1', 'EEG L8-L7', 'EEG L9-L8'}\n",
            "    'BiMo': {'EEG M1-Pins1-2', 'EEG SFG-Ains1-3', 'EEG M1-Pins4-M1-Pins3', 'EEG MFG-ACing10-MFG-ACing9', 'EEG AntL3-AntL2', 'EEG MFG-ACing8-MFG-ACing7', 'EEG MFG-ACing9-MFG-ACing8', 'EEG MFG-ACing7-MFG-ACing6', 'EEG AntL5-AntL4', 'EEG AntL4-AntL3', 'EEG SFG-AIns1-2'}\n",
            "    'ChCr': {'EEG H5-H4', 'EEG I8-I1', 'EEG E7-E6', 'EEG P12-P8', 'EEG Q16-Q1', 'EEG E4-E3', 'EEG E3-E2', 'EEG P11-P10', 'EEG E2-E1', 'EEG P10-P9', 'EEG J15-J1', 'EEG E8-E7', 'EEG P8-P1', 'EEG H3-H2', 'EEG E6-E5', 'EEG P12-P11'}\n",
            "    'ChSe': {'EEG F2-F1', 'EEG C2-C1', 'EEG D4-D1', 'EEG C5-C3', 'EEG D3-D2', 'EEG B10-B5', 'EEG B4-B1', 'EEG D4-D3'}\n",
            "    'ErMcSt': {'EEG H7-H6', 'EEG G3-G2', 'EEG C8-C7', 'EEG H6-H5', 'EEG G4-G3', 'EEG E6-E5', 'EEG F2-F1', 'EEG E7-E6', 'EEG E4-E3', 'EEG E5-E4', 'EEG H5-H4', 'EEG C9-C8', 'EEG G2-G1', 'EEG E3-E2', 'EEG G5-G4', 'EEG D2-D1', 'EEG G6-G5', 'EEG C2-C1', 'EEG C10-C9', 'EEG E2-E1', 'EEG C7-C6'}\n",
            "    'EsCh': {'EEG D2-D1', 'EEG D10-D9', 'EEG J2-J1', 'EEG K12-K1', 'EEG D11-D10', 'EEG F4-F3', 'EEG C2-C1', 'EEG C4-C3', 'EEG I4-I3', 'EEG D12-D11', 'EEG D3-D2', 'EEG K13-K12', 'EEG I2-I1', 'EEG I3-I2'}\n",
            "    'FaCl': {'EEG I5-I4', 'EEG I8-I7', 'EEG I6-I3', 'EEG I7-I6', 'EEG G46-G37', 'EEG S7-S5', 'EEG S5-S4', 'EEG S6-S3', 'EEG S3-S2', 'EEG G37-G30'}\n",
            "    'FIRe': {'EEG E11-E10', 'EEG E13-E12', 'EEG E8-E7', 'EEG D3-D2', 'EEG E6-E5', 'EEG F9-F8', 'EEG E7-E6', 'EEG E12-E11', 'EEG E9-E8', 'EEG F11-F10', 'EEG F12-F11', 'EEG C3-C2', 'EEG D4-D3', 'EEG C4-C3', 'EEG F10-F9', 'EEG E10-E9', 'EEG C2-C1', 'EEG E14-E13', 'EEG F13-F12'}\n",
            "    'IsTa': {'EEG C12-C11', 'EEG M12-M11', 'EEG E7-E6', 'EEG B6-B5', 'EEG C13-C12', 'EEG E12-E11', 'EEG E10-E9', 'EEG E9-E8', 'EEG M10-M9', 'EEG F4-F3', 'EEG E8-E7', 'EEG D13-D12', 'EEG F6-F5', 'EEG F5-F4'}\n",
            "    'JaCo': {'EEG G07-G05', 'EEG G45-G44', 'EEG G29-G26', 'EEG G28-G27', 'EEG G36-G31', 'EEG G21-G19', 'EEG G30-G28', 'EEG G14-G07', 'EEG G15-G14', 'EEG G46-G45', 'EEG G37-G36', 'EEG G22-G21'}\n",
            "    'JeDo': {'EEG G34-G28', 'EEG DP4-DP3', 'EEG G35-G20', 'EEG G18-G17', 'EEG G27-G26', 'EEG G11-G10', 'EEG G28-G19', 'EEG G19-G12', 'EEG DP3-DP2', 'EEG G20-G18', 'EEG G12-G11'}\n",
            "    'JoDa': {'EEG D4-D3', 'EEG D2-D1', 'EEG H13-H12', 'EEG I12-I11', 'EEG I9-I8', 'EEG J6-J5', 'EEG H10-H9', 'EEG J4-J3', 'EEG J2-J1', 'EEG I10-I9', 'EEG I11-I10', 'EEG J3-J2', 'EEG D3-D2', 'EEG H12-H11', 'EEG H9-H8', 'EEG I13-I12', 'EEG J5-J4', 'EEG H11-H10'}\n",
            "    'JoHa': {'EEG A3-A2', 'EEG D10-D9', 'EEG B9-B8', 'EEG G14-G13', 'EEG D11-D10', 'EEG G11-G10', 'EEG J2-J1', 'EEG F3-F2', 'EEG B12-B11', 'EEG D3-D2', 'EEG B3-B2', 'EEG H12-H11', 'EEG F2-F1', 'EEG B10-B9', 'EEG B11-B10', 'EEG I1-I0', 'EEG F4-F3', 'EEG A10-A9', 'EEG C3-C2', 'EEG G12-G11', 'EEG C12-C11', 'EEG A2-A1', 'EEG A12-A11', 'EEG C9-C8', 'EEG G13-G12', 'EEG A11-A10', 'EEG F6-F5', 'EEG F5-F4', 'EEG D2-D1', 'EEG C2-C1', 'EEG C10-C9', 'EEG B2-B1', 'EEG D12-D11', 'EEG F7-F6', 'EEG G15-G14', 'EEG C11-C10', 'EEG H11-H10'}\n",
            "    'JoSk': {'EEG AntHippo3-AntHippo2', 'EEG PostHip2-PostHip1', 'EEG AntHippo2-AntHippo1', 'EEG Amygdala13-Amygdala12', 'EEG SupTemp8-SupTemp7', 'EEG Amyg3-Amyg2', 'EEG FrontIns3-FrontIns1', 'EEG Enterhinal11-Enterhinal10', 'EEG Amyg2-Amyg1', 'EEG Enterhinal12-Enterhinal11', 'EEG AntHippo5-AntHippo4', 'EEG AntHippo4-AntHippo3', 'EEG PostHip4-PostHip3', 'EEG PostHip3-PostHip2'}\n",
            "    'KeVe': {'EEG J9-J8', 'EEG I9-I8', 'EEG J2-J1', 'EEG J4-J3', 'EEG I3-I2', 'EEG J3-J2', 'EEG I8-I7', 'EEG J8-J7', 'EEG P4-P3', 'EEG O1-O0', 'EEG I7-I6', 'EEG I4-I3', 'EEG J7-J6', 'EEG K2-K1', 'EEG J5-J4', 'EEG E1-E0', 'EEG D2-D1', 'EEG H17-H16', 'EEG Q4-Q3', 'EEG I12-I11', 'EEG J6-J5', 'EEG J10-J9', 'EEG I6-I5', 'EEG I11-I10', 'EEG I10-I9', 'EEG I2-I1'}\n",
            "    'KiCl': {'spread', 'SOZ', 'late_spread'}\n",
            "    'MaBo': {'EEG D3-D2', 'EEG C3-C2', 'EEG C4-C3', 'EEG B4-B3'}\n",
            "    'MaMa': {'EEG RH1', 'EEG LH3-LH2', 'EEG LH2-LH1', 'EEG LA2-LA1', 'EEG LA3-LA2', 'EEG RA1'}\n",
            "    'MiWa': {'EEG G42-G41', 'EEG G35-G32', 'EEG G2-G1', 'EEG G17-G11', 'EEG G9-G8', 'EEG G18-G17', 'EEG G35-G34', 'EEG G28-G27', 'EEG G44-G43', 'EEG G33-G32', 'EEG G30-G29', 'EEG G43-G36', 'EEG G10-G9', 'EEG G36-G35', 'EEG G29-G28'}\n",
            "    'PoSa': {'EEG M6-M5', 'EEG G2-G1', 'EEG E7-E6', 'EEG L13-L12', 'EEG L15-L14', 'EEG L16-L15', 'EEG G3-G2', 'EEG L14-L13', 'EEG F8-F7', 'EEG F7-F6', 'EEG G4-G3', 'EEG F6-F5', 'EEG H2-H1', 'EEG M8-M7', 'EEG M7-M6'}\n",
            "    'RhKe': {'EEG H5-H4', 'EEG H7-H6', 'EEG G2-G1', 'EEG G6-G5', 'EEG G7-G6', 'EEG Q3-Q2', 'EEG G3-G2', 'EEG H6-H5', 'EEG G4-G3', 'EEG I2-I1', 'EEG I3-I2', 'EEG Q2-Q1'}\n",
            "    'RuBa': {'EEG Amy3-Amy2', 'EEG Hip6-Hip5', 'EEG Amy2-Amy1', 'EEG Hip5-Hip4'}\n",
            "    'SaIs': {'EEG AG6-AG5', 'EEG AG5-AG4'}\n",
            "    'SaKh': {'EEG PAR3-PAR2', 'EEG PAR6-PAR5', 'EEG MFG7-MFG6', 'EEG E4-E3', 'EEG PAR5-PAR4', 'EEG E5-E4', 'EEG C4-C3', 'EEG C2-C1', 'EEG MFG5-MFG4', 'EEG MFG2-MFG1', 'EEG C3-C2', 'EEG MFG4-MFG3', 'EEG MFG6-MFG5', 'EEG PAR4-PAR3', 'EEG MFG3-MFG2'}\n",
            "    'SeHu': {'EEG D2-D1', 'EEG H5-H4', 'EEG H7-H6', 'EEG B10-B9', 'EEG G9-G8', 'EEG B9-B8', 'EEG H6-H5', 'EEG G10-G9', 'EEG B7-B6', 'EEG H2-H1', 'EEG B8-B7', 'EEG H3-H2', 'EEG H8-H7', 'EEG H4-H3'}\n",
            "    'SoBe': {'EEG G22-G17', 'EEG DP4-DP3', 'EEG G17-G13', 'EEG G31-G22', 'EEG G31-G30', 'EEG G4-G3', 'EEG G13-G11', 'EEG DA3', 'EEG G11-G4'}\n",
            "    'TiPe': {'EEG G23-G21', 'EEG MLS5-MLS1', 'EEG G18-G17', 'EEG G20-G19', 'EEG G9-G5', 'EEG MLS6-MLS5', 'EEG G21-G20', 'EEG G26-G25', 'EEG G31-G30', 'EEG G20-G11', 'EEG G30-G26', 'EEG DA6-DA5', 'EEG G32-G31', 'EEG G11-G9', 'EEG G19-G18', 'EEG G25-G20'}\n",
            "    'UzRa': {'EEG G2-G1', 'EEG DP4-DP3', 'EEG G6-G5', 'EEG G11-G10', 'EEG G7-G6', 'EEG G9-G8', 'EEG G8-G7', 'EEG G3-G2', 'EEG DP2-DP1', 'EEG G5-G4', 'EEG G10-G9', 'EEG G13-G12', 'EEG G4-G3', 'EEG G12-G11'}\n",
            "    'ZaSa': {'EEG F9-F8', 'EEG J2-J1', 'EEG C2-C1', 'EEG C4-C3', 'EEG F10-F9', 'EEG J3-J2'}\n",
            "}\n"
          ]
        }
      ],
      "source": [
        "loaded_data = {}\n",
        "for patient_id, patient_labels in data.items():\n",
        "    loaded_data[patient_id] = []\n",
        "    for label, values in patient_labels.items():\n",
        "        loaded_data[patient_id].extend(values)\n",
        "    loaded_data[patient_id] = set(loaded_data[patient_id])\n",
        "\n",
        "print(\"}\")\n",
        "for patient_id, true_seizure_channels in loaded_data.items():\n",
        "     print(f\"    '{patient_id}': {true_seizure_channels}\")\n",
        "print(\"}\")"
      ]
    },
    {
      "cell_type": "code",
      "source": [
        "print(\"}\")\n",
        "for patient_id, patient_loader in val_patient_data.items():\n",
        "    print(f\"{patient_id}\")\n",
        "    print(\"number of batches:\", len(patient_loader))\n",
        "    first_batch = next(iter(patient_loader))\n",
        "    print(\"shape of the batch\", first_batch.shape) # (num_batches, 1, window_size)\n",
        "    print(\"shape of the data\", first_batch[0].shape) # (1, window_size)"
      ],
      "metadata": {
        "id": "WeArmRstLx6A",
        "colab": {
          "base_uri": "https://localhost:8080/",
          "height": 263
        },
        "outputId": "aeffd5e6-08a3-48c7-f856-4302a06b70c5"
      },
      "id": "WeArmRstLx6A",
      "execution_count": null,
      "outputs": [
        {
          "output_type": "stream",
          "name": "stdout",
          "text": [
            "}\n"
          ]
        },
        {
          "output_type": "error",
          "ename": "NameError",
          "evalue": "ignored",
          "traceback": [
            "\u001b[0;31m---------------------------------------------------------------------------\u001b[0m",
            "\u001b[0;31mNameError\u001b[0m                                 Traceback (most recent call last)",
            "\u001b[0;32m<ipython-input-42-25684d6e161d>\u001b[0m in \u001b[0;36m<cell line: 2>\u001b[0;34m()\u001b[0m\n\u001b[1;32m      1\u001b[0m \u001b[0mprint\u001b[0m\u001b[0;34m(\u001b[0m\u001b[0;34m\"}\"\u001b[0m\u001b[0;34m)\u001b[0m\u001b[0;34m\u001b[0m\u001b[0;34m\u001b[0m\u001b[0m\n\u001b[0;32m----> 2\u001b[0;31m \u001b[0;32mfor\u001b[0m \u001b[0mpatient_id\u001b[0m\u001b[0;34m,\u001b[0m \u001b[0mpatient_loader\u001b[0m \u001b[0;32min\u001b[0m \u001b[0mval_patient_data\u001b[0m\u001b[0;34m.\u001b[0m\u001b[0mitems\u001b[0m\u001b[0;34m(\u001b[0m\u001b[0;34m)\u001b[0m\u001b[0;34m:\u001b[0m\u001b[0;34m\u001b[0m\u001b[0;34m\u001b[0m\u001b[0m\n\u001b[0m\u001b[1;32m      3\u001b[0m     \u001b[0mprint\u001b[0m\u001b[0;34m(\u001b[0m\u001b[0;34mf\"{patient_id}\"\u001b[0m\u001b[0;34m)\u001b[0m\u001b[0;34m\u001b[0m\u001b[0;34m\u001b[0m\u001b[0m\n\u001b[1;32m      4\u001b[0m     \u001b[0mprint\u001b[0m\u001b[0;34m(\u001b[0m\u001b[0;34m\"number of batches:\"\u001b[0m\u001b[0;34m,\u001b[0m \u001b[0mlen\u001b[0m\u001b[0;34m(\u001b[0m\u001b[0mpatient_loader\u001b[0m\u001b[0;34m)\u001b[0m\u001b[0;34m)\u001b[0m\u001b[0;34m\u001b[0m\u001b[0;34m\u001b[0m\u001b[0m\n\u001b[1;32m      5\u001b[0m     \u001b[0mfirst_batch\u001b[0m \u001b[0;34m=\u001b[0m \u001b[0mnext\u001b[0m\u001b[0;34m(\u001b[0m\u001b[0miter\u001b[0m\u001b[0;34m(\u001b[0m\u001b[0mpatient_loader\u001b[0m\u001b[0;34m)\u001b[0m\u001b[0;34m)\u001b[0m\u001b[0;34m\u001b[0m\u001b[0;34m\u001b[0m\u001b[0m\n",
            "\u001b[0;31mNameError\u001b[0m: name 'val_patient_data' is not defined"
          ]
        }
      ]
    },
    {
      "cell_type": "markdown",
      "source": [
        "### Preprocess Seizure Data\n"
      ],
      "metadata": {
        "id": "JJNNY4wJHiLS"
      },
      "id": "JJNNY4wJHiLS"
    },
    {
      "cell_type": "markdown",
      "source": [
        "#### All data"
      ],
      "metadata": {
        "id": "I4K4CBQyOvNO"
      },
      "id": "I4K4CBQyOvNO"
    },
    {
      "cell_type": "markdown",
      "source": [
        "##### Convert ictal data"
      ],
      "metadata": {
        "id": "LJ0hn2kZKktt"
      },
      "id": "LJ0hn2kZKktt"
    },
    {
      "cell_type": "code",
      "source": [
        "import glob\n",
        "\n",
        "from google.colab import drive\n",
        "drive.mount('/content/drive', force_remount=True)\n",
        "\n",
        "!pip install mne\n",
        "import mne\n",
        "\n",
        "colab_path = \"/content/drive/My Drive/Leonor\""
      ],
      "metadata": {
        "id": "UvSW500jLBIo",
        "colab": {
          "base_uri": "https://localhost:8080/"
        },
        "outputId": "f105197b-1486-498d-efd3-f636db8b9664"
      },
      "id": "UvSW500jLBIo",
      "execution_count": null,
      "outputs": [
        {
          "output_type": "stream",
          "name": "stdout",
          "text": [
            "Mounted at /content/drive\n",
            "Collecting mne\n",
            "  Downloading mne-1.5.1-py3-none-any.whl (7.7 MB)\n",
            "\u001b[2K     \u001b[90m━━━━━━━━━━━━━━━━━━━━━━━━━━━━━━━━━━━━━━━━\u001b[0m \u001b[32m7.7/7.7 MB\u001b[0m \u001b[31m30.3 MB/s\u001b[0m eta \u001b[36m0:00:00\u001b[0m\n",
            "\u001b[?25hRequirement already satisfied: numpy>=1.15.4 in /usr/local/lib/python3.10/dist-packages (from mne) (1.23.5)\n",
            "Requirement already satisfied: scipy>=1.6.3 in /usr/local/lib/python3.10/dist-packages (from mne) (1.10.1)\n",
            "Requirement already satisfied: matplotlib>=3.4.0 in /usr/local/lib/python3.10/dist-packages (from mne) (3.7.1)\n",
            "Requirement already satisfied: tqdm in /usr/local/lib/python3.10/dist-packages (from mne) (4.66.1)\n",
            "Requirement already satisfied: pooch>=1.5 in /usr/local/lib/python3.10/dist-packages (from mne) (1.7.0)\n",
            "Requirement already satisfied: decorator in /usr/local/lib/python3.10/dist-packages (from mne) (4.4.2)\n",
            "Requirement already satisfied: packaging in /usr/local/lib/python3.10/dist-packages (from mne) (23.1)\n",
            "Requirement already satisfied: jinja2 in /usr/local/lib/python3.10/dist-packages (from mne) (3.1.2)\n",
            "Requirement already satisfied: contourpy>=1.0.1 in /usr/local/lib/python3.10/dist-packages (from matplotlib>=3.4.0->mne) (1.1.0)\n",
            "Requirement already satisfied: cycler>=0.10 in /usr/local/lib/python3.10/dist-packages (from matplotlib>=3.4.0->mne) (0.11.0)\n",
            "Requirement already satisfied: fonttools>=4.22.0 in /usr/local/lib/python3.10/dist-packages (from matplotlib>=3.4.0->mne) (4.42.1)\n",
            "Requirement already satisfied: kiwisolver>=1.0.1 in /usr/local/lib/python3.10/dist-packages (from matplotlib>=3.4.0->mne) (1.4.5)\n",
            "Requirement already satisfied: pillow>=6.2.0 in /usr/local/lib/python3.10/dist-packages (from matplotlib>=3.4.0->mne) (9.4.0)\n",
            "Requirement already satisfied: pyparsing>=2.3.1 in /usr/local/lib/python3.10/dist-packages (from matplotlib>=3.4.0->mne) (3.1.1)\n",
            "Requirement already satisfied: python-dateutil>=2.7 in /usr/local/lib/python3.10/dist-packages (from matplotlib>=3.4.0->mne) (2.8.2)\n",
            "Requirement already satisfied: platformdirs>=2.5.0 in /usr/local/lib/python3.10/dist-packages (from pooch>=1.5->mne) (3.10.0)\n",
            "Requirement already satisfied: requests>=2.19.0 in /usr/local/lib/python3.10/dist-packages (from pooch>=1.5->mne) (2.31.0)\n",
            "Requirement already satisfied: MarkupSafe>=2.0 in /usr/local/lib/python3.10/dist-packages (from jinja2->mne) (2.1.3)\n",
            "Requirement already satisfied: six>=1.5 in /usr/local/lib/python3.10/dist-packages (from python-dateutil>=2.7->matplotlib>=3.4.0->mne) (1.16.0)\n",
            "Requirement already satisfied: charset-normalizer<4,>=2 in /usr/local/lib/python3.10/dist-packages (from requests>=2.19.0->pooch>=1.5->mne) (3.2.0)\n",
            "Requirement already satisfied: idna<4,>=2.5 in /usr/local/lib/python3.10/dist-packages (from requests>=2.19.0->pooch>=1.5->mne) (3.4)\n",
            "Requirement already satisfied: urllib3<3,>=1.21.1 in /usr/local/lib/python3.10/dist-packages (from requests>=2.19.0->pooch>=1.5->mne) (2.0.4)\n",
            "Requirement already satisfied: certifi>=2017.4.17 in /usr/local/lib/python3.10/dist-packages (from requests>=2.19.0->pooch>=1.5->mne) (2023.7.22)\n",
            "Installing collected packages: mne\n",
            "Successfully installed mne-1.5.1\n"
          ]
        }
      ]
    },
    {
      "cell_type": "code",
      "source": [
        "import os\n",
        "data_path = \"/content/drive/My Drive/Leonor/szdata/\"\n",
        "# Load ictal EDF files\n",
        "all_edf_paths = glob.glob(os.path.join(data_path, '**/*.EDF'), recursive=True)\n",
        "# Get all the paths of the Non-Baseline files\n",
        "ictal_paths = []\n",
        "for path in all_edf_paths:\n",
        "    if \"Baseline\" not in path:\n",
        "        ictal_paths.append(path)\n",
        "\n",
        "# Remove warnings when loading data\n",
        "import warnings\n",
        "warnings.simplefilter(\"ignore\", category=RuntimeWarning)\n",
        "\n",
        "# Create raw list for ictal data\n",
        "ictal_raw_list = []\n",
        "for file_path in ictal_paths:\n",
        "    ictal_raw_list.append(mne.io.read_raw_edf(file_path, preload=True, verbose=False))\n",
        "\n",
        "# Save ictal_raw_list in Google Drive\n",
        "import pickle\n",
        "ictal_raw_list_path = f\"{colab_path}/ictal_raw_list.pkl\"\n",
        "\n",
        "with open(ictal_raw_list_path, 'wb') as file:\n",
        "    pickle.dump(ictal_raw_list, file)"
      ],
      "metadata": {
        "id": "X8YdQVgbKwaa"
      },
      "id": "X8YdQVgbKwaa",
      "execution_count": null,
      "outputs": []
    },
    {
      "cell_type": "markdown",
      "source": [
        "##### Load ictal_raw_list"
      ],
      "metadata": {
        "id": "SlFbEqzsecqI"
      },
      "id": "SlFbEqzsecqI"
    },
    {
      "cell_type": "code",
      "source": [
        "# Load ictal_raw_list\n",
        "import pickle\n",
        "ictal_raw_list_path = f\"{colab_path}/ictal_raw_list.pkl\"\n",
        "\n",
        "with open(ictal_raw_list_path, 'rb') as file:\n",
        "    ictal_raw_list = pickle.load(file)\n",
        "\n",
        "print(ictal_raw_list)"
      ],
      "metadata": {
        "id": "BY_9cDfockMu",
        "colab": {
          "base_uri": "https://localhost:8080/"
        },
        "outputId": "64b49f82-9f6a-438a-d0e1-d88fb5613d0c"
      },
      "id": "BY_9cDfockMu",
      "execution_count": null,
      "outputs": [
        {
          "output_type": "stream",
          "name": "stdout",
          "text": [
            "[<RawEDF | KiCl_Seizure1.EDF, 60 x 49152 (96.0 s), ~22.6 MB, data loaded>, <RawEDF | KiCl_Seizure2.EDF, 60 x 62208 (121.5 s), ~28.5 MB, data loaded>, <RawEDF | KiCl_Seizure3.EDF, 60 x 47104 (92.0 s), ~21.6 MB, data loaded>, <RawEDF | RhKe_Seizure3.EDF, 146 x 123008 (120.1 s), ~137.2 MB, data loaded>, <RawEDF | RhKe_Seizure2.EDF, 146 x 126080 (123.1 s), ~140.6 MB, data loaded>, <RawEDF | RhKe_Seizure1.EDF, 146 x 140032 (136.7 s), ~156.1 MB, data loaded>, <RawEDF | ArRy_Seizure2.EDF, 117 x 77056 (75.2 s), ~68.9 MB, data loaded>, <RawEDF | ArRy_Seizure3.EDF, 117 x 110080 (107.5 s), ~98.4 MB, data loaded>, <RawEDF | ArRy_Seizure1.EDF, 117 x 96000 (93.7 s), ~85.8 MB, data loaded>, <RawEDF | SaIs_Seizure2.EDF, 59 x 164352 (160.5 s), ~74.0 MB, data loaded>, <RawEDF | SaIs_Seizure3.EDF, 59 x 119296 (116.5 s), ~53.8 MB, data loaded>, <RawEDF | SaIs_Seizure1.EDF, 59 x 109056 (106.5 s), ~49.2 MB, data loaded>, <RawEDF | PoSa_Seizure3.EDF, 123 x 155008 (151.4 s), ~145.6 MB, data loaded>, <RawEDF | PoSa_Seizure2.EDF, 123 x 161024 (157.2 s), ~151.2 MB, data loaded>, <RawEDF | PoSa_Seizure1.EDF, 123 x 75008 (73.2 s), ~70.5 MB, data loaded>, <RawEDF | JaCo_Seizure1.EDF, 58 x 42496 (83.0 s), ~18.9 MB, data loaded>, <RawEDF | JaCo_Seizure2.EDF, 58 x 52224 (102.0 s), ~23.2 MB, data loaded>, <RawEDF | JaCo_Seizure3.EDF, 58 x 22016 (43.0 s), ~9.8 MB, data loaded>, <RawEDF | TiPe_Seizure1.EDF, 37 x 32256 (63.0 s), ~9.1 MB, data loaded>, <RawEDF | TiPe_Seizure2.EDF, 37 x 27136 (53.0 s), ~7.7 MB, data loaded>, <RawEDF | TiPe_Seizure3.EDF, 37 x 33280 (65.0 s), ~9.4 MB, data loaded>, <RawEDF | MaBo_Seizure1.EDF, 80 x 97024 (94.7 s), ~59.3 MB, data loaded>, <RawEDF | MaBo_Seizure2.EDF, 80 x 87040 (85.0 s), ~53.2 MB, data loaded>, <RawEDF | MaBo_Seizure3.EDF, 80 x 183040 (178.7 s), ~111.8 MB, data loaded>, <RawEDF | FaCl_Seizure1.EDF, 55 x 36352 (35.5 s), ~15.3 MB, data loaded>, <RawEDF | FaCl_Seizure2.EDF, 55 x 47104 (46.0 s), ~19.8 MB, data loaded>, <RawEDF | FaCl_Seizure3.EDF, 55 x 42496 (41.5 s), ~17.9 MB, data loaded>, <RawEDF | IsTa_Seizure1.EDF, 139 x 142080 (138.7 s), ~150.8 MB, data loaded>, <RawEDF | IsTa_Seizure2.EDF, 139 x 109056 (106.5 s), ~115.8 MB, data loaded>, <RawEDF | IsTa_Seizure3.EDF, 139 x 301056 (294.0 s), ~319.4 MB, data loaded>, <RawEDF | FlRe_Seizure1.EDF, 139 x 73088 (71.4 s), ~77.6 MB, data loaded>, <RawEDF | FlRe_Seizure3.EDF, 139 x 62080 (60.6 s), ~66.0 MB, data loaded>, <RawEDF | FlRe_Seizure2.EDF, 139 x 62080 (60.6 s), ~66.0 MB, data loaded>, <RawEDF | JoDa_Seizure1.EDF, 56 x 105472 (103.0 s), ~45.1 MB, data loaded>, <RawEDF | JoDa_Seizure2.EDF, 56 x 99328 (97.0 s), ~42.5 MB, data loaded>, <RawEDF | JoDa_Seizure3.EDF, 56 x 69120 (67.5 s), ~29.6 MB, data loaded>, <RawEDF | JeDo_Seizure1.EDF, 57 x 92160 (90.0 s), ~40.1 MB, data loaded>, <RawEDF | JeDo_Seizure2.EDF, 57 x 62464 (61.0 s), ~27.2 MB, data loaded>, <RawEDF | JeDo_Seizure3.EDF, 57 x 132096 (129.0 s), ~57.5 MB, data loaded>, <RawEDF | ErMcSt_Seizure1.EDF, 98 x 83200 (81.2 s), ~62.3 MB, data loaded>, <RawEDF | ErMcSt_Seizure3.EDF, 98 x 89088 (87.0 s), ~66.7 MB, data loaded>, <RawEDF | ErMcSt_Seizure2.EDF, 98 x 100096 (97.7 s), ~74.9 MB, data loaded>, <RawEDF | BeNe_Seizure1.EDF, 104 x 263168 (257.0 s), ~208.9 MB, data loaded>, <RawEDF | BeNe_Seizure2.EDF, 104 x 280064 (273.5 s), ~222.3 MB, data loaded>, <RawEDF | BeNe_Seizure3.EDF, 104 x 95232 (93.0 s), ~75.7 MB, data loaded>, <RawEDF | SoBe_Seizure1.EDF, 47 x 171008 (167.0 s), ~61.4 MB, data loaded>, <RawEDF | SoBe_Seizure2.EDF, 47 x 210432 (205.5 s), ~75.5 MB, data loaded>, <RawEDF | SoBe_Seizure3.EDF, 47 x 33280 (32.5 s), ~12.0 MB, data loaded>, <RawEDF | RuBa_Seizure1.EDF, 60 x 46080 (45.0 s), ~21.2 MB, data loaded>, <RawEDF | RuBa_Seizure2.EDF, 60 x 50176 (49.0 s), ~23.0 MB, data loaded>, <RawEDF | RuBa_Seizure3.EDF, 60 x 49152 (48.0 s), ~22.6 MB, data loaded>, <RawEDF | ZaSa_Seizure1.EDF, 140 x 55040 (53.7 s), ~58.9 MB, data loaded>, <RawEDF | ZaSa_Seizure3.EDF, 140 x 54016 (52.7 s), ~57.8 MB, data loaded>, <RawEDF | ZaSa_Seizure2.EDF, 140 x 73088 (71.4 s), ~78.2 MB, data loaded>, <RawEDF | JoSk_Seizure2.EDF, 115 x 113152 (110.5 s), ~99.4 MB, data loaded>, <RawEDF | JoSk_Seizure3.EDF, 115 x 110080 (107.5 s), ~96.7 MB, data loaded>, <RawEDF | JoSk_Seizure1.EDF, 115 x 93184 (91.0 s), ~81.9 MB, data loaded>, <RawEDF | EsCh_Seizure1.EDF, 81 x 84224 (82.2 s), ~52.1 MB, data loaded>, <RawEDF | EsCh_Seizure3.EDF, 81 x 44032 (43.0 s), ~27.3 MB, data loaded>, <RawEDF | EsCh_Seizure2.EDF, 81 x 37120 (36.2 s), ~23.0 MB, data loaded>, <RawEDF | ChSe_Seizure3.EDF, 143 x 105088 (102.6 s), ~114.8 MB, data loaded>, <RawEDF | ChSe_Seizure2.EDF, 143 x 56064 (54.7 s), ~61.3 MB, data loaded>, <RawEDF | ChSe_Seizure1.EDF, 143 x 48000 (46.9 s), ~52.5 MB, data loaded>, <RawEDF | UzRa_Seizure1.EDF, 39 x 100352 (98.0 s), ~29.9 MB, data loaded>, <RawEDF | UzRa_Seizure2.EDF, 39 x 109056 (106.5 s), ~32.5 MB, data loaded>, <RawEDF | UzRa_Seizure3.EDF, 39 x 112128 (109.5 s), ~33.4 MB, data loaded>, <RawEDF | BlMo_Seizure1.EDF, 47 x 136192 (133.0 s), ~48.9 MB, data loaded>, <RawEDF | BlMo_Seizure3.EDF, 47 x 112128 (109.5 s), ~40.3 MB, data loaded>, <RawEDF | BlMo_Seizure2.EDF, 47 x 102400 (100.0 s), ~36.8 MB, data loaded>, <RawEDF | MaMa_Seizure3.EDF, 16 x 97280 (95.0 s), ~11.9 MB, data loaded>, <RawEDF | MaMa_Seizure2.EDF, 16 x 147456 (144.0 s), ~18.0 MB, data loaded>, <RawEDF | MaMa_Seizure1.EDF, 16 x 113664 (111.0 s), ~13.9 MB, data loaded>, <RawEDF | ChCr_Seizure1.EDF, 137 x 268032 (261.7 s), ~280.3 MB, data loaded>, <RawEDF | ChCr_Seizure2.EDF, 137 x 70016 (68.4 s), ~73.3 MB, data loaded>, <RawEDF | ChCr_Seizure3.EDF, 137 x 66048 (64.5 s), ~69.2 MB, data loaded>, <RawEDF | KeVe_Seizure1.EDF, 122 x 44032 (43.0 s), ~41.1 MB, data loaded>, <RawEDF | KeVe_Seizure3.EDF, 122 x 54016 (52.7 s), ~50.4 MB, data loaded>, <RawEDF | KeVe_Seizure2.EDF, 122 x 46080 (45.0 s), ~43.0 MB, data loaded>, <RawEDF | JoHa_Seizure3.EDF, 96 x 189184 (184.7 s), ~138.7 MB, data loaded>, <RawEDF | JoHa_Seizure2.EDF, 96 x 179200 (175.0 s), ~131.3 MB, data loaded>, <RawEDF | JoHa_Seizure1.EDF, 96 x 134144 (131.0 s), ~98.3 MB, data loaded>, <RawEDF | MiWa_Seizure1.EDF, 49 x 76288 (149.0 s), ~28.6 MB, data loaded>, <RawEDF | MiWa_Seizure2.EDF, 49 x 146432 (286.0 s), ~54.8 MB, data loaded>, <RawEDF | MiWa_Seizure3.EDF, 49 x 104448 (204.0 s), ~39.1 MB, data loaded>, <RawEDF | SaKh_Seizure1.EDF, 37 x 198144 (193.5 s), ~56.0 MB, data loaded>, <RawEDF | SaKh_Seizure3.EDF, 37 x 250368 (244.5 s), ~70.7 MB, data loaded>, <RawEDF | SaKh_Seizure2.EDF, 37 x 136192 (133.0 s), ~38.5 MB, data loaded>, <RawEDF | SeHu_Seizure2.EDF, 97 x 50176 (49.0 s), ~37.2 MB, data loaded>, <RawEDF | SeHu_Seizure3.EDF, 97 x 45056 (44.0 s), ~33.4 MB, data loaded>, <RawEDF | SeHu_Seizure1.EDF, 97 x 40192 (39.2 s), ~29.8 MB, data loaded>]\n"
          ]
        }
      ]
    },
    {
      "cell_type": "code",
      "source": [
        "print(\"Number of Non-Baseline files:\", len(ictal_raw_list))"
      ],
      "metadata": {
        "id": "qJfYUK-uTB2L",
        "colab": {
          "base_uri": "https://localhost:8080/"
        },
        "outputId": "221ae193-e8b9-4610-e1f9-f9f8b055758f"
      },
      "id": "qJfYUK-uTB2L",
      "execution_count": null,
      "outputs": [
        {
          "output_type": "stream",
          "name": "stdout",
          "text": [
            "Number of Non-Baseline files: 90\n"
          ]
        }
      ]
    },
    {
      "cell_type": "markdown",
      "source": [
        "#### Patient loader Ictals"
      ],
      "metadata": {
        "id": "zz4tQ-dbO2-W"
      },
      "id": "zz4tQ-dbO2-W"
    },
    {
      "cell_type": "code",
      "source": [
        "colab_path = \"/content/drive/My Drive/Leonor\"\n",
        "\n",
        "total_folders = len(os.listdir(f'{colab_path}/szdata/'))\n",
        "num_validation = int(0.2 * total_folders)\n",
        "\n",
        "val_patient_data_seizure = {}\n",
        "train_patient_data_seizure = {}\n",
        "\n",
        "# Counter for folders processed\n",
        "counter = 0\n",
        "\n",
        "for patient_folder in os.listdir(f'{colab_path}/szdata/'):\n",
        "    full_path = os.path.join(f'{colab_path}/szdata/', patient_folder)\n",
        "    # print(\"Getting folders for\", patient_folder)\n",
        "    if os.path.isdir(full_path):\n",
        "        patient_code_name = patient_folder\n",
        "        edf_paths = glob.glob(os.path.join(full_path, \"*.EDF\"))\n",
        "        raw_list = []\n",
        "        for file_path in edf_paths:\n",
        "            if \"Baseline\" in file_path:\n",
        "                continue\n",
        "            raw_list.append(mne.io.read_raw_edf(file_path, preload=True, verbose=False))\n",
        "\n",
        "        # Custom data set for patient\n",
        "        datasets = []\n",
        "        for raw in raw_list:\n",
        "            print(raw.get_data().shape)\n",
        "            dataset = SEEGDataset(raw, fs=512, mean=global_mean, std=global_std, epoch_dur=1, bandpass=[5, 50])\n",
        "            print(f\"Total number of windows: {len(dataset.windows)}\")\n",
        "            print(f\"Total samples in the dataset: {len(dataset)}\") # num_windows * num_channels\n",
        "            # shape of sample: (1, 512) (1, window size)\n",
        "            # print(f\"Shape of each sample: {dataset[0].shape}\") #\n",
        "            datasets.append(dataset)\n",
        "\n",
        "        # Concatenate these datasets\n",
        "        concatenated_dataset = ConcatDataset(datasets)\n",
        "\n",
        "        # Create Dataloader for patient\n",
        "        patient_loader = DataLoader(concatenated_dataset, batch_size=32, shuffle=True)\n",
        "\n",
        "        # Deterministically assign this patient to training or validation set based on the counter\n",
        "        if counter < num_validation:\n",
        "            print(f\"Adding {patient_code_name} to validation set\")\n",
        "            val_patient_data_seizure[patient_code_name] = patient_loader\n",
        "        else:\n",
        "            print(f\"Adding {patient_code_name} to training set\")\n",
        "            train_patient_data_seizure[patient_code_name] = patient_loader\n",
        "\n",
        "        # Increment the counter\n",
        "        counter += 1"
      ],
      "metadata": {
        "id": "AM61QZ7SO60L",
        "colab": {
          "base_uri": "https://localhost:8080/"
        },
        "outputId": "7a5f780f-91aa-42ec-90cd-d5c466f275b5"
      },
      "id": "AM61QZ7SO60L",
      "execution_count": null,
      "outputs": [
        {
          "output_type": "stream",
          "name": "stdout",
          "text": [
            "(60, 49152)\n",
            "Sampling frequency of the instance is already 512.0, returning unmodified.\n",
            "filtered raw (60, 49152)\n",
            "Total number of windows: 95\n",
            "Total samples in the dataset: 5700\n",
            "(60, 62208)\n",
            "Sampling frequency of the instance is already 512.0, returning unmodified.\n",
            "filtered raw (60, 62208)\n",
            "Total number of windows: 121\n",
            "Total samples in the dataset: 7260\n",
            "(60, 47104)\n",
            "Sampling frequency of the instance is already 512.0, returning unmodified.\n",
            "filtered raw (60, 47104)\n",
            "Total number of windows: 91\n",
            "Total samples in the dataset: 5460\n",
            "Adding KiCl to validation set\n",
            "(146, 123008)\n",
            "filtered raw (146, 61504)\n",
            "Total number of windows: 120\n",
            "Total samples in the dataset: 17520\n",
            "(146, 126080)\n",
            "filtered raw (146, 63040)\n",
            "Total number of windows: 123\n",
            "Total samples in the dataset: 17958\n",
            "(146, 140032)\n",
            "filtered raw (146, 70016)\n",
            "Total number of windows: 136\n",
            "Total samples in the dataset: 19856\n",
            "Adding RhKe to validation set\n",
            "(117, 77056)\n",
            "filtered raw (117, 38528)\n",
            "Total number of windows: 75\n",
            "Total samples in the dataset: 8775\n",
            "(117, 110080)\n",
            "filtered raw (117, 55040)\n",
            "Total number of windows: 107\n",
            "Total samples in the dataset: 12519\n",
            "(117, 96000)\n",
            "filtered raw (117, 48000)\n",
            "Total number of windows: 93\n",
            "Total samples in the dataset: 10881\n",
            "Adding ArRy to validation set\n",
            "(59, 164352)\n",
            "filtered raw (59, 82176)\n",
            "Total number of windows: 160\n",
            "Total samples in the dataset: 9440\n",
            "(59, 119296)\n",
            "filtered raw (59, 59648)\n",
            "Total number of windows: 116\n",
            "Total samples in the dataset: 6844\n",
            "(59, 109056)\n",
            "filtered raw (59, 54528)\n",
            "Total number of windows: 106\n",
            "Total samples in the dataset: 6254\n",
            "Adding SaIs to validation set\n",
            "(123, 155008)\n",
            "filtered raw (123, 77504)\n",
            "Total number of windows: 151\n",
            "Total samples in the dataset: 18573\n",
            "(123, 161024)\n",
            "filtered raw (123, 80512)\n",
            "Total number of windows: 157\n",
            "Total samples in the dataset: 19311\n",
            "(123, 75008)\n",
            "filtered raw (123, 37504)\n",
            "Total number of windows: 73\n",
            "Total samples in the dataset: 8979\n",
            "Adding PoSa to validation set\n",
            "(58, 42496)\n",
            "Sampling frequency of the instance is already 512.0, returning unmodified.\n",
            "filtered raw (58, 42496)\n",
            "Total number of windows: 82\n",
            "Total samples in the dataset: 4756\n",
            "(58, 52224)\n",
            "Sampling frequency of the instance is already 512.0, returning unmodified.\n",
            "filtered raw (58, 52224)\n",
            "Total number of windows: 101\n",
            "Total samples in the dataset: 5858\n",
            "(58, 22016)\n",
            "Sampling frequency of the instance is already 512.0, returning unmodified.\n",
            "filtered raw (58, 22016)\n",
            "Total number of windows: 42\n",
            "Total samples in the dataset: 2436\n",
            "Adding JaCo to validation set\n",
            "(37, 32256)\n",
            "Sampling frequency of the instance is already 512.0, returning unmodified.\n",
            "filtered raw (37, 32256)\n",
            "Total number of windows: 62\n",
            "Total samples in the dataset: 2294\n",
            "(37, 27136)\n",
            "Sampling frequency of the instance is already 512.0, returning unmodified.\n",
            "filtered raw (37, 27136)\n",
            "Total number of windows: 52\n",
            "Total samples in the dataset: 1924\n",
            "(37, 33280)\n",
            "Sampling frequency of the instance is already 512.0, returning unmodified.\n",
            "filtered raw (37, 33280)\n",
            "Total number of windows: 64\n",
            "Total samples in the dataset: 2368\n",
            "Adding TiPe to training set\n",
            "(80, 97024)\n",
            "filtered raw (28, 48512)\n",
            "Total number of windows: 94\n",
            "Total samples in the dataset: 2632\n",
            "(80, 87040)\n",
            "filtered raw (28, 43520)\n",
            "Total number of windows: 84\n",
            "Total samples in the dataset: 2352\n",
            "(80, 183040)\n",
            "filtered raw (28, 91520)\n",
            "Total number of windows: 178\n",
            "Total samples in the dataset: 4984\n",
            "Adding MaBo to training set\n",
            "(55, 36352)\n",
            "filtered raw (55, 18176)\n",
            "Total number of windows: 35\n",
            "Total samples in the dataset: 1925\n",
            "(55, 47104)\n",
            "filtered raw (55, 23552)\n",
            "Total number of windows: 45\n",
            "Total samples in the dataset: 2475\n",
            "(55, 42496)\n",
            "filtered raw (55, 21248)\n",
            "Total number of windows: 41\n",
            "Total samples in the dataset: 2255\n",
            "Adding FaCl to training set\n",
            "(139, 142080)\n",
            "filtered raw (139, 71040)\n",
            "Total number of windows: 138\n",
            "Total samples in the dataset: 19182\n",
            "(139, 109056)\n",
            "filtered raw (139, 54528)\n",
            "Total number of windows: 106\n",
            "Total samples in the dataset: 14734\n",
            "(139, 301056)\n",
            "filtered raw (139, 150528)\n",
            "Total number of windows: 293\n",
            "Total samples in the dataset: 40727\n",
            "Adding IsTa to training set\n",
            "(139, 73088)\n",
            "filtered raw (139, 36544)\n",
            "Total number of windows: 71\n",
            "Total samples in the dataset: 9869\n",
            "(139, 62080)\n",
            "filtered raw (139, 31040)\n",
            "Total number of windows: 60\n",
            "Total samples in the dataset: 8340\n",
            "(139, 62080)\n",
            "filtered raw (139, 31040)\n",
            "Total number of windows: 60\n",
            "Total samples in the dataset: 8340\n",
            "Adding FlRe to training set\n",
            "(56, 105472)\n",
            "filtered raw (56, 52736)\n",
            "Total number of windows: 102\n",
            "Total samples in the dataset: 5712\n",
            "(56, 99328)\n",
            "filtered raw (56, 49664)\n",
            "Total number of windows: 96\n",
            "Total samples in the dataset: 5376\n",
            "(56, 69120)\n",
            "filtered raw (56, 34560)\n",
            "Total number of windows: 67\n",
            "Total samples in the dataset: 3752\n",
            "Adding JoDa to training set\n",
            "(57, 92160)\n",
            "filtered raw (48, 46080)\n",
            "Total number of windows: 89\n",
            "Total samples in the dataset: 4272\n",
            "(57, 62464)\n",
            "filtered raw (48, 31232)\n",
            "Total number of windows: 60\n",
            "Total samples in the dataset: 2880\n",
            "(57, 132096)\n",
            "filtered raw (48, 66048)\n",
            "Total number of windows: 128\n",
            "Total samples in the dataset: 6144\n",
            "Adding JeDo to training set\n",
            "(98, 83200)\n",
            "filtered raw (98, 41600)\n",
            "Total number of windows: 81\n",
            "Total samples in the dataset: 7938\n",
            "(98, 89088)\n",
            "filtered raw (98, 44544)\n",
            "Total number of windows: 86\n",
            "Total samples in the dataset: 8428\n",
            "(98, 100096)\n",
            "filtered raw (98, 50048)\n",
            "Total number of windows: 97\n",
            "Total samples in the dataset: 9506\n",
            "Adding ErMcSt to training set\n",
            "(104, 263168)\n",
            "filtered raw (104, 131584)\n",
            "Total number of windows: 256\n",
            "Total samples in the dataset: 26624\n",
            "(104, 280064)\n",
            "filtered raw (104, 140032)\n",
            "Total number of windows: 273\n",
            "Total samples in the dataset: 28392\n",
            "(104, 95232)\n",
            "filtered raw (104, 47616)\n",
            "Total number of windows: 92\n",
            "Total samples in the dataset: 9568\n",
            "Adding BeNe to training set\n",
            "(47, 171008)\n",
            "filtered raw (47, 85504)\n",
            "Total number of windows: 166\n",
            "Total samples in the dataset: 7802\n",
            "(47, 210432)\n",
            "filtered raw (47, 105216)\n",
            "Total number of windows: 205\n",
            "Total samples in the dataset: 9635\n",
            "(47, 33280)\n",
            "filtered raw (47, 16640)\n",
            "Total number of windows: 32\n",
            "Total samples in the dataset: 1504\n",
            "Adding SoBe to training set\n",
            "(60, 46080)\n",
            "filtered raw (39, 23040)\n",
            "Total number of windows: 44\n",
            "Total samples in the dataset: 1716\n",
            "(60, 50176)\n",
            "filtered raw (39, 25088)\n",
            "Total number of windows: 48\n",
            "Total samples in the dataset: 1872\n",
            "(60, 49152)\n",
            "filtered raw (39, 24576)\n",
            "Total number of windows: 47\n",
            "Total samples in the dataset: 1833\n",
            "Adding RuBa to training set\n",
            "(140, 55040)\n",
            "filtered raw (140, 27520)\n",
            "Total number of windows: 53\n",
            "Total samples in the dataset: 7420\n",
            "(140, 54016)\n",
            "filtered raw (140, 27008)\n",
            "Total number of windows: 52\n",
            "Total samples in the dataset: 7280\n",
            "(140, 73088)\n",
            "filtered raw (140, 36544)\n",
            "Total number of windows: 71\n",
            "Total samples in the dataset: 9940\n",
            "Adding ZaSa to training set\n",
            "(115, 113152)\n",
            "filtered raw (44, 56576)\n",
            "Total number of windows: 110\n",
            "Total samples in the dataset: 4840\n",
            "(115, 110080)\n",
            "filtered raw (44, 55040)\n",
            "Total number of windows: 107\n",
            "Total samples in the dataset: 4708\n",
            "(115, 93184)\n",
            "filtered raw (44, 46592)\n",
            "Total number of windows: 90\n",
            "Total samples in the dataset: 3960\n",
            "Adding JoSk to training set\n",
            "(81, 84224)\n",
            "filtered raw (81, 42112)\n",
            "Total number of windows: 82\n",
            "Total samples in the dataset: 6642\n",
            "(81, 44032)\n",
            "filtered raw (81, 22016)\n",
            "Total number of windows: 42\n",
            "Total samples in the dataset: 3402\n",
            "(81, 37120)\n",
            "filtered raw (81, 18560)\n",
            "Total number of windows: 36\n",
            "Total samples in the dataset: 2916\n",
            "Adding EsCh to training set\n",
            "(143, 105088)\n",
            "filtered raw (143, 52544)\n",
            "Total number of windows: 102\n",
            "Total samples in the dataset: 14586\n",
            "(143, 56064)\n",
            "filtered raw (143, 28032)\n",
            "Total number of windows: 54\n",
            "Total samples in the dataset: 7722\n",
            "(143, 48000)\n",
            "filtered raw (143, 24000)\n",
            "Total number of windows: 46\n",
            "Total samples in the dataset: 6578\n",
            "Adding ChSe to training set\n",
            "(39, 100352)\n",
            "filtered raw (39, 50176)\n",
            "Total number of windows: 97\n",
            "Total samples in the dataset: 3783\n",
            "(39, 109056)\n",
            "filtered raw (39, 54528)\n",
            "Total number of windows: 106\n",
            "Total samples in the dataset: 4134\n",
            "(39, 112128)\n",
            "filtered raw (39, 56064)\n",
            "Total number of windows: 109\n",
            "Total samples in the dataset: 4251\n",
            "Adding UzRa to training set\n",
            "(47, 136192)\n",
            "filtered raw (14, 68096)\n",
            "Total number of windows: 132\n",
            "Total samples in the dataset: 1848\n",
            "(47, 112128)\n",
            "filtered raw (14, 56064)\n",
            "Total number of windows: 109\n",
            "Total samples in the dataset: 1526\n",
            "(47, 102400)\n",
            "filtered raw (14, 51200)\n",
            "Total number of windows: 99\n",
            "Total samples in the dataset: 1386\n",
            "Adding BlMo to training set\n",
            "(16, 97280)\n",
            "filtered raw (16, 48640)\n",
            "Total number of windows: 94\n",
            "Total samples in the dataset: 1504\n",
            "(16, 147456)\n",
            "filtered raw (16, 73728)\n",
            "Total number of windows: 143\n",
            "Total samples in the dataset: 2288\n",
            "(16, 113664)\n",
            "filtered raw (16, 56832)\n",
            "Total number of windows: 110\n",
            "Total samples in the dataset: 1760\n",
            "Adding MaMa to training set\n",
            "(137, 268032)\n",
            "filtered raw (137, 134016)\n",
            "Total number of windows: 261\n",
            "Total samples in the dataset: 35757\n",
            "(137, 70016)\n",
            "filtered raw (137, 35008)\n",
            "Total number of windows: 68\n",
            "Total samples in the dataset: 9316\n",
            "(137, 66048)\n",
            "filtered raw (137, 33024)\n",
            "Total number of windows: 64\n",
            "Total samples in the dataset: 8768\n",
            "Adding ChCr to training set\n",
            "(122, 44032)\n",
            "filtered raw (122, 22016)\n",
            "Total number of windows: 42\n",
            "Total samples in the dataset: 5124\n",
            "(122, 54016)\n",
            "filtered raw (122, 27008)\n",
            "Total number of windows: 52\n",
            "Total samples in the dataset: 6344\n",
            "(122, 46080)\n",
            "filtered raw (122, 23040)\n",
            "Total number of windows: 44\n",
            "Total samples in the dataset: 5368\n",
            "Adding KeVe to training set\n",
            "(96, 189184)\n",
            "filtered raw (96, 94592)\n",
            "Total number of windows: 184\n",
            "Total samples in the dataset: 17664\n",
            "(96, 179200)\n",
            "filtered raw (96, 89600)\n",
            "Total number of windows: 174\n",
            "Total samples in the dataset: 16704\n",
            "(96, 134144)\n",
            "filtered raw (96, 67072)\n",
            "Total number of windows: 130\n",
            "Total samples in the dataset: 12480\n",
            "Adding JoHa to training set\n",
            "(49, 76288)\n",
            "Sampling frequency of the instance is already 512.0, returning unmodified.\n",
            "filtered raw (49, 76288)\n",
            "Total number of windows: 148\n",
            "Total samples in the dataset: 7252\n",
            "(49, 146432)\n",
            "Sampling frequency of the instance is already 512.0, returning unmodified.\n",
            "filtered raw (49, 146432)\n",
            "Total number of windows: 285\n",
            "Total samples in the dataset: 13965\n",
            "(49, 104448)\n",
            "Sampling frequency of the instance is already 512.0, returning unmodified.\n",
            "filtered raw (49, 104448)\n",
            "Total number of windows: 203\n",
            "Total samples in the dataset: 9947\n",
            "Adding MiWa to training set\n",
            "(37, 198144)\n",
            "filtered raw (32, 99072)\n",
            "Total number of windows: 193\n",
            "Total samples in the dataset: 6176\n",
            "(37, 250368)\n",
            "filtered raw (32, 125184)\n",
            "Total number of windows: 244\n",
            "Total samples in the dataset: 7808\n",
            "(37, 136192)\n",
            "filtered raw (32, 68096)\n",
            "Total number of windows: 132\n",
            "Total samples in the dataset: 4224\n",
            "Adding SaKh to training set\n",
            "(97, 50176)\n",
            "filtered raw (35, 25088)\n",
            "Total number of windows: 48\n",
            "Total samples in the dataset: 1680\n",
            "(97, 45056)\n",
            "filtered raw (35, 22528)\n",
            "Total number of windows: 43\n",
            "Total samples in the dataset: 1505\n",
            "(97, 40192)\n",
            "filtered raw (35, 20096)\n",
            "Total number of windows: 39\n",
            "Total samples in the dataset: 1365\n",
            "Adding SeHu to training set\n"
          ]
        }
      ]
    },
    {
      "cell_type": "code",
      "source": [
        "print(val_patient_data.keys())\n",
        "print(train_patient_data.keys())"
      ],
      "metadata": {
        "id": "V9fvhgWuRB4v",
        "colab": {
          "base_uri": "https://localhost:8080/",
          "height": 191
        },
        "outputId": "654b6899-ea42-4500-f008-c0ef45f2e56c"
      },
      "id": "V9fvhgWuRB4v",
      "execution_count": null,
      "outputs": [
        {
          "output_type": "error",
          "ename": "NameError",
          "evalue": "ignored",
          "traceback": [
            "\u001b[0;31m---------------------------------------------------------------------------\u001b[0m",
            "\u001b[0;31mNameError\u001b[0m                                 Traceback (most recent call last)",
            "\u001b[0;32m<ipython-input-55-9599b3c8648a>\u001b[0m in \u001b[0;36m<cell line: 1>\u001b[0;34m()\u001b[0m\n\u001b[0;32m----> 1\u001b[0;31m \u001b[0mprint\u001b[0m\u001b[0;34m(\u001b[0m\u001b[0mval_patient_data\u001b[0m\u001b[0;34m.\u001b[0m\u001b[0mkeys\u001b[0m\u001b[0;34m(\u001b[0m\u001b[0;34m)\u001b[0m\u001b[0;34m)\u001b[0m\u001b[0;34m\u001b[0m\u001b[0;34m\u001b[0m\u001b[0m\n\u001b[0m\u001b[1;32m      2\u001b[0m \u001b[0mprint\u001b[0m\u001b[0;34m(\u001b[0m\u001b[0mtrain_patient_data\u001b[0m\u001b[0;34m.\u001b[0m\u001b[0mkeys\u001b[0m\u001b[0;34m(\u001b[0m\u001b[0;34m)\u001b[0m\u001b[0;34m)\u001b[0m\u001b[0;34m\u001b[0m\u001b[0;34m\u001b[0m\u001b[0m\n",
            "\u001b[0;31mNameError\u001b[0m: name 'val_patient_data' is not defined"
          ]
        }
      ]
    },
    {
      "cell_type": "markdown",
      "source": [
        "### Calculate ictal_mses\n"
      ],
      "metadata": {
        "id": "BVxTsUffHknP"
      },
      "id": "BVxTsUffHknP"
    },
    {
      "cell_type": "markdown",
      "source": [
        "* ictal_mses:  error of Anomaly Detection for Seizure data  "
      ],
      "metadata": {
        "id": "notrZxXervGQ"
      },
      "id": "notrZxXervGQ"
    },
    {
      "cell_type": "markdown",
      "source": [
        "##### Statistics on global ictal_mses"
      ],
      "metadata": {
        "id": "9ZBpCQMNSSF2"
      },
      "id": "9ZBpCQMNSSF2"
    },
    {
      "cell_type": "code",
      "source": [
        "import numpy as np\n",
        "# Calculate ictal_global_mean and ictal_global_std\n",
        "ictal_global_mean = 0\n",
        "ictal_global_var = 0\n",
        "ictal_global_count = 0\n",
        "\n",
        "for raw_data in ictal_raw_list:\n",
        "    data = raw_data.get_data()\n",
        "    n = data.shape[1]\n",
        "    local_mean = np.mean(data)\n",
        "    local_var = np.var(data)\n",
        "\n",
        "    # Welford's method for updating mean and variance\n",
        "    delta = local_mean - ictal_global_mean\n",
        "    ictal_global_mean += delta * n / (ictal_global_count + n)\n",
        "    ictal_global_var += local_var * n + delta**2 * ictal_global_count * n / (ictal_global_count + n)\n",
        "    ictal_global_count += n\n",
        "\n",
        "# Finalize the variance and compute standard deviation\n",
        "ictal_global_var /= ictal_global_count\n",
        "ictal_global_std = np.sqrt(ictal_global_var)\n",
        "print(\"ictal_global_mean:\", ictal_global_mean)\n",
        "print(\"ictal_global_std:\", ictal_global_std)"
      ],
      "metadata": {
        "id": "cLq-Gl4fHnbL",
        "colab": {
          "base_uri": "https://localhost:8080/"
        },
        "outputId": "90401848-8926-472e-df44-31f73824e4e6"
      },
      "id": "cLq-Gl4fHnbL",
      "execution_count": null,
      "outputs": [
        {
          "output_type": "stream",
          "name": "stdout",
          "text": [
            "ictal_global_mean: -5.859446085949422e-06\n",
            "ictal_global_std: 0.0002555721539640478\n"
          ]
        }
      ]
    },
    {
      "cell_type": "markdown",
      "source": [
        "**ictal_global_mean:** -5.859446085949422e-06\n",
        "\n",
        "**ictal_global_std:** 0.0002555721539640478"
      ],
      "metadata": {
        "id": "uW2pTTzHjQxf"
      },
      "id": "uW2pTTzHjQxf"
    },
    {
      "cell_type": "markdown",
      "source": [
        "##### Calculate ictal_mses"
      ],
      "metadata": {
        "id": "NQlLn1iImxlJ"
      },
      "id": "NQlLn1iImxlJ"
    },
    {
      "cell_type": "code",
      "source": [
        "def convert_to_baseline_path(original_path: str) -> str:\n",
        "    \"\"\"\n",
        "    Convert an EDF file path for a seizure to its corresponding baseline file path.\n",
        "\n",
        "    Parameters:\n",
        "    - original_path (str): The original file path for the seizure EDF file.\n",
        "\n",
        "    Returns:\n",
        "    - str: The modified file path for the baseline EDF file.\n",
        "    \"\"\"\n",
        "\n",
        "    # Split the original path into directory and file name\n",
        "    directory, file_name = original_path.rsplit('/', 1)\n",
        "\n",
        "    # Replace \"Seizure\" with \"Sz\" and append \"_Baseline\" to file name\n",
        "    modified_file_name = file_name.replace(\"Seizure\", \"Sz\")[:-4] + \"_Baseline.EDF\"\n",
        "\n",
        "    # Combine directory and modified file name to create the new path\n",
        "    new_path = f\"{directory}/{modified_file_name}\"\n",
        "\n",
        "    return new_path"
      ],
      "metadata": {
        "id": "7cnI_-x87lXm"
      },
      "id": "7cnI_-x87lXm",
      "execution_count": null,
      "outputs": []
    },
    {
      "cell_type": "code",
      "source": [
        "def load_and_prepare_data(seizure_file, standardise=True):\n",
        "    \"\"\"\n",
        "    Load and prepare data for either MSE calculation or seizure score calculation.\n",
        "    :param seizure_file: Path to the seizure EDF file.\n",
        "    :param standardise: Whether to standardise the data based on interictal periods.\n",
        "    :return: DataLoader, list of channel labels.\n",
        "    \"\"\"\n",
        "    if standardise:\n",
        "        raw_interictal_file = convert_to_baseline_path(seizure_file)\n",
        "        raw_interictal = mne.io.read_raw_edf(raw_interictal_file, preload=True, verbose=False)\n",
        "        interictal_dataset = SEEGDataset(raw_interictal, fs=512, mean=global_mean, std=global_std, epoch_dur=1, bandpass=[5, 50])\n",
        "\n",
        "    raw = mne.io.read_raw_edf(seizure_file, preload=True, verbose=False)\n",
        "    dataset = SEEGDataset(raw, fs=512, mean=global_mean, std=global_std, epoch_dur=1, bandpass=[5, 50])\n",
        "\n",
        "    channel_labels = [chan for chan in raw.info['ch_names'] if \"Ref\" not in chan]\n",
        "    data_loader = DataLoader(dataset, batch_size=32)\n",
        "\n",
        "    return data_loader, channel_labels\n",
        "\n",
        "\n",
        "def get_mses(seizure_file, model, device, standardise=True):\n",
        "    \"\"\"\n",
        "    Compute the Mean Squared Errors (MSEs) for each sample in the SEEG dataset.\n",
        "    :param seizure_file: Path to the seizure EDF file.\n",
        "    :param model: Pretrained PyTorch model.\n",
        "    :param device: Computational device ('cpu' or 'cuda').\n",
        "    :param standardise: Whether to standardise the data.\n",
        "    :return: Array of MSEs, reshaped to (num_channels, num_samples).\n",
        "    \"\"\"\n",
        "    data_loader, channel_labels = load_and_prepare_data(seizure_file, standardise)\n",
        "\n",
        "    model.eval()\n",
        "    mses = []\n",
        "    with torch.no_grad():\n",
        "        for batch in data_loader: 'Josk'\n",
        "            inputs = batch\n",
        "            inputs = inputs.to(device)  # Move input data to device\n",
        "            outputs = model(inputs)\n",
        "            mse_batch = np.mean(np.square(inputs.cpu().numpy() - outputs.cpu().numpy()), axis=-1)[:, 0]\n",
        "            # mse_batch = np.square(inputs.cpu().numpy() - outputs.cpu().numpy())\n",
        "            mses.extend(mse_batch)\n",
        "\n",
        "    reshaped_mses = np.array(mses).reshape(len(channel_labels), -1)\n",
        "    return reshaped_mses, channel_labels\n",
        "\n",
        "reshaped_mses, channel_labels = get_mses(f\"{colab_path}/szdata/JoSk/JoSk_Seizure1.EDF\", model, device, standardise=True)"
      ],
      "metadata": {
        "id": "MkLR3hBL5frJ",
        "colab": {
          "base_uri": "https://localhost:8080/",
          "height": 141
        },
        "outputId": "d358c603-545b-4eb5-a3fc-30057f6a6f83"
      },
      "id": "MkLR3hBL5frJ",
      "execution_count": null,
      "outputs": [
        {
          "output_type": "error",
          "ename": "IndentationError",
          "evalue": "ignored",
          "traceback": [
            "\u001b[0;36m  File \u001b[0;32m\"<ipython-input-153-4ad29fac40b6>\"\u001b[0;36m, line \u001b[0;32m37\u001b[0m\n\u001b[0;31m    inputs = batch\u001b[0m\n\u001b[0m    ^\u001b[0m\n\u001b[0;31mIndentationError\u001b[0m\u001b[0;31m:\u001b[0m unexpected indent\n"
          ]
        }
      ]
    },
    {
      "cell_type": "code",
      "source": [
        "print(reshaped_mses.shape)"
      ],
      "metadata": {
        "id": "Qz7-msry-zoj",
        "colab": {
          "base_uri": "https://localhost:8080/"
        },
        "outputId": "8a83e79a-2022-4447-88e8-aa49a4eff710"
      },
      "id": "Qz7-msry-zoj",
      "execution_count": null,
      "outputs": [
        {
          "output_type": "stream",
          "name": "stdout",
          "text": [
            "(117, 93)\n"
          ]
        }
      ]
    },
    {
      "cell_type": "code",
      "source": [
        "print(channel_labels)"
      ],
      "metadata": {
        "id": "ijsa26MoAF_n",
        "colab": {
          "base_uri": "https://localhost:8080/"
        },
        "outputId": "754571b9-03e4-49ee-c364-3ade2a63a59f"
      },
      "id": "ijsa26MoAF_n",
      "execution_count": null,
      "outputs": [
        {
          "output_type": "stream",
          "name": "stdout",
          "text": [
            "['EEG N10-N9', 'EEG N9-N8', 'EEG N8-N7', 'EEG N7-N6', 'EEG N6-N5', 'EEG N5-N4', 'EEG N4-N3', 'EEG N3-N2', 'EEG N2-N1', 'EEG O9-O8', 'EEG O8-O7', 'EEG O7-O6', 'EEG O6-O5', 'EEG O5-O4', 'EEG O4-O3', 'EEG O3-O2', 'EEG O2-O1', 'EEG G9-G8', 'EEG G8-G7', 'EEG G7-G6', 'EEG G6-G5', 'EEG G5-G4', 'EEG G4-G3', 'EEG G3-G2', 'EEG G2-G1', 'EEG M11-M10', 'EEG M10-M9', 'EEG M9-M8', 'EEG M8-M7', 'EEG M4-M3', 'EEG M3-M2', 'EEG M2-M1', 'EEG F10-F9', 'EEG F9-F8', 'EEG F8-F7', 'EEG F7-F6', 'EEG F6-F5', 'EEG F5-F4', 'EEG F4-F3', 'EEG F3-F2', 'EEG F2-F1', 'EEG H8-H7', 'EEG H7-H6', 'EEG H6-H5', 'EEG H5-H4', 'EEG H4-H3', 'EEG I13-I12', 'EEG I12-I11', 'EEG I11-I10', 'EEG I6-I5', 'EEG I5-I4', 'EEG I4-I3', 'EEG I3-I2', 'EEG I2-I1', 'EEG J8-J7', 'EEG J7-J6', 'EEG J6-J5', 'EEG J5-J4', 'EEG J4-J3', 'EEG J3-J2', 'EEG J2-J1', 'EEG D11-D10', 'EEG D10-D9', 'EEG D9-D8', 'EEG D8-D7', 'EEG D7-D6', 'EEG D6-D5', 'EEG D5-D4', 'EEG D4-D3', 'EEG D3-D2', 'EEG D2-D1', 'EEG C15-C14', 'EEG C14-C13', 'EEG C13-C12', 'EEG C12-C11', 'EEG C6-C5', 'EEG C5-C4', 'EEG C4-C3', 'EEG B8-B7', 'EEG B7-B6', 'EEG B6-B5', 'EEG B5-B4', 'EEG A9-A8', 'EEG A8-A7', 'EEG A7-A6', 'EEG A6-A5', 'EEG A5-A4', 'EEG A4-A3', 'EEG A3-A2', 'EEG A2-A1', 'EEG K5-K4', 'EEG K4-K3', 'EEG K3-K2', 'EEG K2-K1', 'EEG L16-L15', 'EEG L15-L14', 'EEG L14-L13', 'EEG L13-L12', 'EEG L12-L11', 'EEG L11-L10', 'EEG E18-E17', 'EEG E17-E16', 'EEG E16-E15', 'EEG E15-E14', 'EEG E14-E13', 'EEG E13-E12', 'EEG E12-E11', 'EEG E11-E10', 'EEG E10-E9', 'EEG E9-E8', 'EEG E8-E7', 'EEG E7-E6', 'EEG E6-E5', 'EEG E5-E4', 'EEG E4-E3', 'EEG E3-E2', 'EEG E2-E1']\n"
          ]
        }
      ]
    },
    {
      "cell_type": "markdown",
      "source": [
        "### AUC ROC Score"
      ],
      "metadata": {
        "id": "rnta0NSqm2Oy"
      },
      "id": "rnta0NSqm2Oy"
    },
    {
      "cell_type": "code",
      "source": [
        "def calculate_auc_score(file_path):\n",
        "    reshaped_mses, channel_labels = get_mses(file_path, model, device, standardise=True)\n",
        "    seizure_scores = np.max(reshaped_mses, axis=1)\n",
        "    print(seizure_scores.shape)\n",
        "\n",
        "    return auc_score\n",
        "\n",
        "    # FUNCTION FOR roc_auc_score\n",
        "    from sklearn.metrics import roc_auc_score\n",
        "    import json\n",
        "\n",
        "    # Get the patient's seizure channels\n",
        "    seizure_chans = loaded_data[\"ArRy\"]\n",
        "\n",
        "    # Create indicator list: 1 if the channel had a seizure, 0 if no seizure\n",
        "    seizure_indicator = [1 if label in seizure_chans else 0 for label in channel_labels]\n",
        "    print(seizure_indicator)\n",
        "    # Calculate ROC AUC score\n",
        "    print(\"shape seizure_indicator\", np.array(seizure_indicator).shape) # num_channels\n",
        "    print(\"shape seizure_scores\", seizure_scores.shape) # num_samples\n",
        "    auc_score = roc_auc_score(seizure_indicator, seizure_scores)\n",
        "\n",
        "    print(\"ROC AUC Score:\", auc_score)"
      ],
      "metadata": {
        "id": "EFYCDXVHIe-e"
      },
      "id": "EFYCDXVHIe-e",
      "execution_count": null,
      "outputs": []
    },
    {
      "cell_type": "markdown",
      "source": [
        "### Youden Index"
      ],
      "metadata": {
        "id": "W7s6IKCc9aH4"
      },
      "id": "W7s6IKCc9aH4"
    },
    {
      "cell_type": "code",
      "source": [
        "from sklearn.metrics import confusion_matrix\n",
        "\n",
        "def calculate_youden_for_threshold(labels, predictions, threshold):\n",
        "    # Convert predictions to binary labels based on the provided threshold\n",
        "    binarized_predictions = [1 if p >= threshold else 0 for p in predictions]\n",
        "\n",
        "    # Compute confusion matrix\n",
        "    tn, fp, fn, tp = confusion_matrix(labels, binarized_predictions).ravel()\n",
        "\n",
        "    # Compute sensitivity and specificity\n",
        "    sensitivity = tp / (tp + fn) if (tp + fn) != 0 else 0\n",
        "    specificity = tn / (tn + fp) if (tn + fp) != 0 else 0\n",
        "\n",
        "    # Compute Youden index\n",
        "    youden_index = sensitivity + specificity - 1\n",
        "\n",
        "    return youden_index"
      ],
      "metadata": {
        "id": "qsPUHiNW9fFS"
      },
      "id": "qsPUHiNW9fFS",
      "execution_count": null,
      "outputs": []
    },
    {
      "cell_type": "markdown",
      "source": [
        "# Run this Cell"
      ],
      "metadata": {
        "id": "wwagQ02IjdGY"
      },
      "id": "wwagQ02IjdGY"
    },
    {
      "cell_type": "code",
      "source": [
        "!pip install mne\n",
        "import mne"
      ],
      "metadata": {
        "id": "QfjdGSiLImiU",
        "colab": {
          "base_uri": "https://localhost:8080/"
        },
        "outputId": "862a2624-07c2-4e06-8a4a-ee8538c34a0e"
      },
      "id": "QfjdGSiLImiU",
      "execution_count": null,
      "outputs": [
        {
          "output_type": "stream",
          "name": "stdout",
          "text": [
            "Requirement already satisfied: mne in /usr/local/lib/python3.10/dist-packages (1.5.1)\n",
            "Requirement already satisfied: numpy>=1.15.4 in /usr/local/lib/python3.10/dist-packages (from mne) (1.23.5)\n",
            "Requirement already satisfied: scipy>=1.6.3 in /usr/local/lib/python3.10/dist-packages (from mne) (1.10.1)\n",
            "Requirement already satisfied: matplotlib>=3.4.0 in /usr/local/lib/python3.10/dist-packages (from mne) (3.7.1)\n",
            "Requirement already satisfied: tqdm in /usr/local/lib/python3.10/dist-packages (from mne) (4.66.1)\n",
            "Requirement already satisfied: pooch>=1.5 in /usr/local/lib/python3.10/dist-packages (from mne) (1.7.0)\n",
            "Requirement already satisfied: decorator in /usr/local/lib/python3.10/dist-packages (from mne) (4.4.2)\n",
            "Requirement already satisfied: packaging in /usr/local/lib/python3.10/dist-packages (from mne) (23.1)\n",
            "Requirement already satisfied: jinja2 in /usr/local/lib/python3.10/dist-packages (from mne) (3.1.2)\n",
            "Requirement already satisfied: contourpy>=1.0.1 in /usr/local/lib/python3.10/dist-packages (from matplotlib>=3.4.0->mne) (1.1.0)\n",
            "Requirement already satisfied: cycler>=0.10 in /usr/local/lib/python3.10/dist-packages (from matplotlib>=3.4.0->mne) (0.11.0)\n",
            "Requirement already satisfied: fonttools>=4.22.0 in /usr/local/lib/python3.10/dist-packages (from matplotlib>=3.4.0->mne) (4.42.1)\n",
            "Requirement already satisfied: kiwisolver>=1.0.1 in /usr/local/lib/python3.10/dist-packages (from matplotlib>=3.4.0->mne) (1.4.5)\n",
            "Requirement already satisfied: pillow>=6.2.0 in /usr/local/lib/python3.10/dist-packages (from matplotlib>=3.4.0->mne) (9.4.0)\n",
            "Requirement already satisfied: pyparsing>=2.3.1 in /usr/local/lib/python3.10/dist-packages (from matplotlib>=3.4.0->mne) (3.1.1)\n",
            "Requirement already satisfied: python-dateutil>=2.7 in /usr/local/lib/python3.10/dist-packages (from matplotlib>=3.4.0->mne) (2.8.2)\n",
            "Requirement already satisfied: platformdirs>=2.5.0 in /usr/local/lib/python3.10/dist-packages (from pooch>=1.5->mne) (3.10.0)\n",
            "Requirement already satisfied: requests>=2.19.0 in /usr/local/lib/python3.10/dist-packages (from pooch>=1.5->mne) (2.31.0)\n",
            "Requirement already satisfied: MarkupSafe>=2.0 in /usr/local/lib/python3.10/dist-packages (from jinja2->mne) (2.1.3)\n",
            "Requirement already satisfied: six>=1.5 in /usr/local/lib/python3.10/dist-packages (from python-dateutil>=2.7->matplotlib>=3.4.0->mne) (1.16.0)\n",
            "Requirement already satisfied: charset-normalizer<4,>=2 in /usr/local/lib/python3.10/dist-packages (from requests>=2.19.0->pooch>=1.5->mne) (3.2.0)\n",
            "Requirement already satisfied: idna<4,>=2.5 in /usr/local/lib/python3.10/dist-packages (from requests>=2.19.0->pooch>=1.5->mne) (3.4)\n",
            "Requirement already satisfied: urllib3<3,>=1.21.1 in /usr/local/lib/python3.10/dist-packages (from requests>=2.19.0->pooch>=1.5->mne) (2.0.4)\n",
            "Requirement already satisfied: certifi>=2017.4.17 in /usr/local/lib/python3.10/dist-packages (from requests>=2.19.0->pooch>=1.5->mne) (2023.7.22)\n"
          ]
        }
      ]
    },
    {
      "cell_type": "code",
      "source": [
        "def convert_to_baseline_path(original_path: str) -> str:\n",
        "    \"\"\"\n",
        "    Convert an EDF file path for a seizure to its corresponding baseline file path.\n",
        "\n",
        "    Parameters:\n",
        "    - original_path (str): The original file path for the seizure EDF file.\n",
        "\n",
        "    Returns:\n",
        "    - str: The modified file path for the baseline EDF file.\n",
        "    \"\"\"\n",
        "\n",
        "    # Split the original path into directory and file name\n",
        "    directory, file_name = original_path.rsplit('/', 1)\n",
        "\n",
        "    # Replace \"Seizure\" with \"Sz\" and append \"_Baseline\" to file name\n",
        "    modified_file_name = file_name.replace(\"Seizure\", \"Sz\")[:-4] + \"_Baseline.EDF\"\n",
        "\n",
        "    # Combine directory and modified file name to create the new path\n",
        "    new_path = f\"{directory}/{modified_file_name}\"\n",
        "\n",
        "    return new_path\n",
        "\n",
        "def load_and_prepare_data(seizure_file, standardise=True):\n",
        "    \"\"\"\n",
        "    Load and prepare data for either MSE calculation or seizure score calculation.\n",
        "    :param seizure_file: Path to the seizure EDF file.\n",
        "    :param standardise: Whether to standardise the data based on interictal periods.\n",
        "    :return: DataLoader, list of channel labels.\n",
        "    \"\"\"\n",
        "    if standardise:\n",
        "        raw_interictal_file = convert_to_baseline_path(seizure_file)\n",
        "        raw_interictal = mne.io.read_raw_edf(raw_interictal_file, preload=True, verbose=False)\n",
        "        interictal_dataset = SEEGDataset(raw_interictal, fs=512, mean=global_mean, std=global_std, epoch_dur=1, bandpass=[5, 50])\n",
        "\n",
        "    raw = mne.io.read_raw_edf(seizure_file, preload=True, verbose=False)\n",
        "    dataset = SEEGDataset(raw, fs=512, mean=global_mean, std=global_std, epoch_dur=1, bandpass=[5, 50])\n",
        "\n",
        "    channel_labels = [chan for chan in raw.info['ch_names'] if \"Ref\" not in chan]\n",
        "    data_loader = DataLoader(dataset, batch_size=32)\n",
        "\n",
        "    return data_loader, channel_labels\n",
        "\n",
        "\n",
        "def get_mses(seizure_file, model, device, standardise=True):\n",
        "    \"\"\"\n",
        "    Compute the Mean Squared Errors (MSEs) for each sample in the SEEG dataset.\n",
        "    :param seizure_file: Path to the seizure EDF file.\n",
        "    :param model: Pretrained PyTorch model.\n",
        "    :param device: Computational device ('cpu' or 'cuda').\n",
        "    :param standardise: Whether to standardise the data.\n",
        "    :return: Array of MSEs, reshaped to (num_channels, num_samples).\n",
        "    \"\"\"\n",
        "    data_loader, channel_labels = load_and_prepare_data(seizure_file, standardise)\n",
        "\n",
        "    model.eval()\n",
        "    mses = []\n",
        "    with torch.no_grad():\n",
        "        for batch in data_loader:\n",
        "            inputs = batch\n",
        "            inputs = inputs.to(device)  # Move input data to device\n",
        "            outputs = model(inputs)\n",
        "            mse_batch = np.mean(np.square(inputs.cpu().numpy() - outputs.cpu().numpy()), axis=-1)[:, 0]\n",
        "            # mse_batch = np.square(inputs.cpu().numpy() - outputs.cpu().numpy())\n",
        "            mses.extend(mse_batch)\n",
        "\n",
        "    reshaped_mses = np.array(mses).reshape(len(channel_labels), -1)\n",
        "    return reshaped_mses, channel_labels\n",
        "\n",
        "from sklearn.metrics import confusion_matrix\n",
        "\n",
        "def calculate_youden_for_threshold(labels, predictions, threshold):\n",
        "    # Convert predictions to binary labels based on the provided threshold\n",
        "    binarized_predictions = [1 if p >= threshold else 0 for p in predictions]\n",
        "\n",
        "    # Compute confusion matrix\n",
        "    tn, fp, fn, tp = confusion_matrix(labels, binarized_predictions).ravel()\n",
        "\n",
        "    # Compute sensitivity and specificity\n",
        "    sensitivity = tp / (tp + fn) if (tp + fn) != 0 else 0\n",
        "    specificity = tn / (tn + fp) if (tn + fp) != 0 else 0\n",
        "\n",
        "    # Compute Youden index\n",
        "    youden_index = sensitivity + specificity - 1\n",
        "\n",
        "    return youden_index\n",
        "\n",
        "def calculate_auc_score(file_path):\n",
        "    reshaped_mses, channel_labels = get_mses(file_path, model, device, standardise=True)\n",
        "    seizure_scores = np.max(reshaped_mses, axis=1)\n",
        "    print(seizure_scores.shape)\n",
        "\n",
        "    # FUNCTION FOR roc_auc_score\n",
        "    from sklearn.metrics import roc_auc_score\n",
        "    import json\n",
        "\n",
        "    # Get the patient's seizure channels\n",
        "    seizure_chans = loaded_data[\"JoSk\"]\n",
        "\n",
        "    # Create indicator list: 1 if the channel had a seizure, 0 if no seizure\n",
        "    seizure_indicator = [1 if label in seizure_chans else 0 for label in channel_labels]\n",
        "    print(seizure_indicator)\n",
        "    # Calculate ROC AUC score\n",
        "    print(\"shape seizure_indicator\", np.array(seizure_indicator).shape) # num_channels\n",
        "    print(\"shape seizure_scores\", seizure_scores.shape) # num_samples\n",
        "    auc_score = roc_auc_score(seizure_indicator, seizure_scores)\n",
        "\n",
        "    print(\"ROC AUC Score:\", auc_score)\n",
        "    youden_score = calculate_youden_for_threshold(labels=seizure_indicator, predictions=seizure_scores, threshold=patient_thresholds['ZaSa'])\n",
        "    print(\"youden_score:\", youden_score)\n",
        "\n",
        "colab_path = '/content/drive/My Drive/Leonor/'\n",
        "\n",
        "calculate_auc_score(f\"{colab_path}/szdata/JoSk/JoSk_Seizure3.EDF\")\n",
        "\n"
      ],
      "metadata": {
        "id": "b_v_be0tjiNZ",
        "colab": {
          "base_uri": "https://localhost:8080/",
          "height": 478
        },
        "outputId": "b8982506-5ce2-4f9a-f122-6aa1b81546d6"
      },
      "id": "b_v_be0tjiNZ",
      "execution_count": null,
      "outputs": [
        {
          "output_type": "stream",
          "name": "stdout",
          "text": [
            "filtered raw (44, 17024)\n",
            "filtered raw (44, 55040)\n",
            "(44,)\n",
            "[0, 0, 0, 0, 0, 0, 0, 0, 0, 0, 0, 0, 0, 0, 0, 0, 0, 0, 0, 0, 0, 0, 0, 0, 0, 0, 0, 0, 0, 0, 0, 0, 0, 0, 0, 0, 0, 0, 0, 0, 0, 0, 0, 0]\n",
            "shape seizure_indicator (44,)\n",
            "shape seizure_scores (44,)\n"
          ]
        },
        {
          "output_type": "error",
          "ename": "ValueError",
          "evalue": "ignored",
          "traceback": [
            "\u001b[0;31m---------------------------------------------------------------------------\u001b[0m",
            "\u001b[0;31mValueError\u001b[0m                                Traceback (most recent call last)",
            "\u001b[0;32m<ipython-input-155-b2f35e8d79ec>\u001b[0m in \u001b[0;36m<cell line: 113>\u001b[0;34m()\u001b[0m\n\u001b[1;32m    111\u001b[0m \u001b[0mcolab_path\u001b[0m \u001b[0;34m=\u001b[0m \u001b[0;34m'/content/drive/My Drive/Leonor/'\u001b[0m\u001b[0;34m\u001b[0m\u001b[0;34m\u001b[0m\u001b[0m\n\u001b[1;32m    112\u001b[0m \u001b[0;34m\u001b[0m\u001b[0m\n\u001b[0;32m--> 113\u001b[0;31m \u001b[0mcalculate_auc_score\u001b[0m\u001b[0;34m(\u001b[0m\u001b[0;34mf\"{colab_path}/szdata/JoSk/JoSk_Seizure3.EDF\"\u001b[0m\u001b[0;34m)\u001b[0m\u001b[0;34m\u001b[0m\u001b[0;34m\u001b[0m\u001b[0m\n\u001b[0m\u001b[1;32m    114\u001b[0m \u001b[0;34m\u001b[0m\u001b[0m\n",
            "\u001b[0;32m<ipython-input-155-b2f35e8d79ec>\u001b[0m in \u001b[0;36mcalculate_auc_score\u001b[0;34m(file_path)\u001b[0m\n\u001b[1;32m    103\u001b[0m     \u001b[0mprint\u001b[0m\u001b[0;34m(\u001b[0m\u001b[0;34m\"shape seizure_indicator\"\u001b[0m\u001b[0;34m,\u001b[0m \u001b[0mnp\u001b[0m\u001b[0;34m.\u001b[0m\u001b[0marray\u001b[0m\u001b[0;34m(\u001b[0m\u001b[0mseizure_indicator\u001b[0m\u001b[0;34m)\u001b[0m\u001b[0;34m.\u001b[0m\u001b[0mshape\u001b[0m\u001b[0;34m)\u001b[0m \u001b[0;31m# num_channels\u001b[0m\u001b[0;34m\u001b[0m\u001b[0;34m\u001b[0m\u001b[0m\n\u001b[1;32m    104\u001b[0m     \u001b[0mprint\u001b[0m\u001b[0;34m(\u001b[0m\u001b[0;34m\"shape seizure_scores\"\u001b[0m\u001b[0;34m,\u001b[0m \u001b[0mseizure_scores\u001b[0m\u001b[0;34m.\u001b[0m\u001b[0mshape\u001b[0m\u001b[0;34m)\u001b[0m \u001b[0;31m# num_samples\u001b[0m\u001b[0;34m\u001b[0m\u001b[0;34m\u001b[0m\u001b[0m\n\u001b[0;32m--> 105\u001b[0;31m     \u001b[0mauc_score\u001b[0m \u001b[0;34m=\u001b[0m \u001b[0mroc_auc_score\u001b[0m\u001b[0;34m(\u001b[0m\u001b[0mseizure_indicator\u001b[0m\u001b[0;34m,\u001b[0m \u001b[0mseizure_scores\u001b[0m\u001b[0;34m)\u001b[0m\u001b[0;34m\u001b[0m\u001b[0;34m\u001b[0m\u001b[0m\n\u001b[0m\u001b[1;32m    106\u001b[0m \u001b[0;34m\u001b[0m\u001b[0m\n\u001b[1;32m    107\u001b[0m     \u001b[0mprint\u001b[0m\u001b[0;34m(\u001b[0m\u001b[0;34m\"ROC AUC Score:\"\u001b[0m\u001b[0;34m,\u001b[0m \u001b[0mauc_score\u001b[0m\u001b[0;34m)\u001b[0m\u001b[0;34m\u001b[0m\u001b[0;34m\u001b[0m\u001b[0m\n",
            "\u001b[0;32m/usr/local/lib/python3.10/dist-packages/sklearn/metrics/_ranking.py\u001b[0m in \u001b[0;36mroc_auc_score\u001b[0;34m(y_true, y_score, average, sample_weight, max_fpr, multi_class, labels)\u001b[0m\n\u001b[1;32m    570\u001b[0m         \u001b[0mlabels\u001b[0m \u001b[0;34m=\u001b[0m \u001b[0mnp\u001b[0m\u001b[0;34m.\u001b[0m\u001b[0munique\u001b[0m\u001b[0;34m(\u001b[0m\u001b[0my_true\u001b[0m\u001b[0;34m)\u001b[0m\u001b[0;34m\u001b[0m\u001b[0;34m\u001b[0m\u001b[0m\n\u001b[1;32m    571\u001b[0m         \u001b[0my_true\u001b[0m \u001b[0;34m=\u001b[0m \u001b[0mlabel_binarize\u001b[0m\u001b[0;34m(\u001b[0m\u001b[0my_true\u001b[0m\u001b[0;34m,\u001b[0m \u001b[0mclasses\u001b[0m\u001b[0;34m=\u001b[0m\u001b[0mlabels\u001b[0m\u001b[0;34m)\u001b[0m\u001b[0;34m[\u001b[0m\u001b[0;34m:\u001b[0m\u001b[0;34m,\u001b[0m \u001b[0;36m0\u001b[0m\u001b[0;34m]\u001b[0m\u001b[0;34m\u001b[0m\u001b[0;34m\u001b[0m\u001b[0m\n\u001b[0;32m--> 572\u001b[0;31m         return _average_binary_score(\n\u001b[0m\u001b[1;32m    573\u001b[0m             \u001b[0mpartial\u001b[0m\u001b[0;34m(\u001b[0m\u001b[0m_binary_roc_auc_score\u001b[0m\u001b[0;34m,\u001b[0m \u001b[0mmax_fpr\u001b[0m\u001b[0;34m=\u001b[0m\u001b[0mmax_fpr\u001b[0m\u001b[0;34m)\u001b[0m\u001b[0;34m,\u001b[0m\u001b[0;34m\u001b[0m\u001b[0;34m\u001b[0m\u001b[0m\n\u001b[1;32m    574\u001b[0m             \u001b[0my_true\u001b[0m\u001b[0;34m,\u001b[0m\u001b[0;34m\u001b[0m\u001b[0;34m\u001b[0m\u001b[0m\n",
            "\u001b[0;32m/usr/local/lib/python3.10/dist-packages/sklearn/metrics/_base.py\u001b[0m in \u001b[0;36m_average_binary_score\u001b[0;34m(binary_metric, y_true, y_score, average, sample_weight)\u001b[0m\n\u001b[1;32m     73\u001b[0m \u001b[0;34m\u001b[0m\u001b[0m\n\u001b[1;32m     74\u001b[0m     \u001b[0;32mif\u001b[0m \u001b[0my_type\u001b[0m \u001b[0;34m==\u001b[0m \u001b[0;34m\"binary\"\u001b[0m\u001b[0;34m:\u001b[0m\u001b[0;34m\u001b[0m\u001b[0;34m\u001b[0m\u001b[0m\n\u001b[0;32m---> 75\u001b[0;31m         \u001b[0;32mreturn\u001b[0m \u001b[0mbinary_metric\u001b[0m\u001b[0;34m(\u001b[0m\u001b[0my_true\u001b[0m\u001b[0;34m,\u001b[0m \u001b[0my_score\u001b[0m\u001b[0;34m,\u001b[0m \u001b[0msample_weight\u001b[0m\u001b[0;34m=\u001b[0m\u001b[0msample_weight\u001b[0m\u001b[0;34m)\u001b[0m\u001b[0;34m\u001b[0m\u001b[0;34m\u001b[0m\u001b[0m\n\u001b[0m\u001b[1;32m     76\u001b[0m \u001b[0;34m\u001b[0m\u001b[0m\n\u001b[1;32m     77\u001b[0m     \u001b[0mcheck_consistent_length\u001b[0m\u001b[0;34m(\u001b[0m\u001b[0my_true\u001b[0m\u001b[0;34m,\u001b[0m \u001b[0my_score\u001b[0m\u001b[0;34m,\u001b[0m \u001b[0msample_weight\u001b[0m\u001b[0;34m)\u001b[0m\u001b[0;34m\u001b[0m\u001b[0;34m\u001b[0m\u001b[0m\n",
            "\u001b[0;32m/usr/local/lib/python3.10/dist-packages/sklearn/metrics/_ranking.py\u001b[0m in \u001b[0;36m_binary_roc_auc_score\u001b[0;34m(y_true, y_score, sample_weight, max_fpr)\u001b[0m\n\u001b[1;32m    337\u001b[0m     \u001b[0;34m\"\"\"Binary roc auc score.\"\"\"\u001b[0m\u001b[0;34m\u001b[0m\u001b[0;34m\u001b[0m\u001b[0m\n\u001b[1;32m    338\u001b[0m     \u001b[0;32mif\u001b[0m \u001b[0mlen\u001b[0m\u001b[0;34m(\u001b[0m\u001b[0mnp\u001b[0m\u001b[0;34m.\u001b[0m\u001b[0munique\u001b[0m\u001b[0;34m(\u001b[0m\u001b[0my_true\u001b[0m\u001b[0;34m)\u001b[0m\u001b[0;34m)\u001b[0m \u001b[0;34m!=\u001b[0m \u001b[0;36m2\u001b[0m\u001b[0;34m:\u001b[0m\u001b[0;34m\u001b[0m\u001b[0;34m\u001b[0m\u001b[0m\n\u001b[0;32m--> 339\u001b[0;31m         raise ValueError(\n\u001b[0m\u001b[1;32m    340\u001b[0m             \u001b[0;34m\"Only one class present in y_true. ROC AUC score \"\u001b[0m\u001b[0;34m\u001b[0m\u001b[0;34m\u001b[0m\u001b[0m\n\u001b[1;32m    341\u001b[0m             \u001b[0;34m\"is not defined in that case.\"\u001b[0m\u001b[0;34m\u001b[0m\u001b[0;34m\u001b[0m\u001b[0m\n",
            "\u001b[0;31mValueError\u001b[0m: Only one class present in y_true. ROC AUC score is not defined in that case."
          ]
        }
      ]
    },
    {
      "cell_type": "markdown",
      "source": [
        "**Plotting Average ROC-AUC score for individual patients **\n",
        "\n",
        "Takes the average of the ROC-AUC score for the 3 seizures"
      ],
      "metadata": {
        "id": "l3E35L56fazD"
      },
      "id": "l3E35L56fazD"
    },
    {
      "cell_type": "code",
      "source": [
        "import matplotlib.pyplot as plt\n",
        "\n",
        "# Your ROC-AUC scores\n",
        "roc_auc_scores = [\n",
        "    0.908037475, 0.959166667, 0.832266976, 0.717585302, 0.89088729, 0.634096063,\n",
        "    0.644419306, 0.705333333, 0.739763734, 0.824952381, 0.698679008, 0.822419493,\n",
        "    0.734405458, 0.73513599, 0.893711522, 0.83482634, 0.78286413, 0.924231231,\n",
        "    0.778645419, 0.861069925, 0.766789863, 0.825248756, 0.815012342, 0.526315789,\n",
        "    0.768786789, 0.911941971, 0.897189267, 0.774419719, 0.745456753, 0.954809287\n",
        "]\n",
        "\n",
        "# Create a list of labels for each score (optional)\n",
        "labels = [str(i+1) for i in range(len(roc_auc_scores))]\n",
        "\n",
        "# Create a bar plot\n",
        "plt.figure(figsize=(12, 6))\n",
        "plt.bar(labels, roc_auc_scores, color='royalblue')\n",
        "plt.xlabel('Patient')\n",
        "plt.ylabel('ROC-AUC Score')\n",
        "plt.title('Average ROC-AUC Scores for Channel Seizure Detection')\n",
        "plt.xticks(rotation=45)  # Rotate x-axis labels for better readability\n",
        "plt.tight_layout()\n",
        "\n",
        "# Show the plot\n",
        "plt.show()\n",
        "\n",
        "\n"
      ],
      "metadata": {
        "id": "byfuSZYbfuNR",
        "colab": {
          "base_uri": "https://localhost:8080/",
          "height": 607
        },
        "outputId": "226bd776-8a7f-4ffb-bb68-16d9cb9c580b"
      },
      "id": "byfuSZYbfuNR",
      "execution_count": null,
      "outputs": [
        {
          "output_type": "display_data",
          "data": {
            "text/plain": [
              "<Figure size 1200x600 with 1 Axes>"
            ],
            "image/png": "[encoded data removed]"
          },
          "metadata": {}
        }
      ]
    },
    {
      "cell_type": "markdown",
      "source": [
        "### Plot graphs for TiPe Baseline"
      ],
      "metadata": {
        "id": "OTmroJIX2sC4"
      },
      "id": "OTmroJIX2sC4"
    },
    {
      "cell_type": "code",
      "source": [
        "import matplotlib.pyplot as plt\n",
        "\n",
        "model.eval()\n",
        "mse_accumulator = []  # A list to accumulate the MSE for each batch\n",
        "dataloader = train_patient_data_baseline['TiPe']\n",
        "with torch.no_grad():\n",
        "    for batch in dataloader:\n",
        "        inputs = batch.to(device)  # inputs: (batch_size, num_channels, 512)\n",
        "        outputs = model(inputs)  # Run the batch through the model.\n",
        "        break\n",
        "\n",
        "x = np.linspace(0, 100, 512)\n",
        "y1 = inputs[4].squeeze()\n",
        "y2 = outputs[4].squeeze()\n",
        "plt.plot(x, y1, label=\"Inputs\")\n",
        "plt.plot(x, y2, label=\"Outputs\")\n",
        "plt.xlabel('Window number')\n",
        "plt.ylabel('Amplitude (µV)')\n",
        "plt.title('Reconstruction for Baseline Pt28')\n",
        "plt.grid(True)\n",
        "plt.legend()\n",
        "plt.show()\n",
        "\n"
      ],
      "metadata": {
        "id": "ftFFbyI22ysX",
        "colab": {
          "base_uri": "https://localhost:8080/",
          "height": 472
        },
        "outputId": "35ab2995-8e34-4e12-e25a-844e2c8c4bf2"
      },
      "id": "ftFFbyI22ysX",
      "execution_count": null,
      "outputs": [
        {
          "output_type": "display_data",
          "data": {
            "text/plain": [
              "<Figure size 640x480 with 1 Axes>"
            ],
            "image/png": "[encoded data removed]"
          },
          "metadata": {}
        }
      ]
    },
    {
      "cell_type": "markdown",
      "source": [
        "### Plot graphs for KiCl Baseline"
      ],
      "metadata": {
        "id": "ludvV5G70WKq"
      },
      "id": "ludvV5G70WKq"
    },
    {
      "cell_type": "code",
      "source": [
        "import matplotlib.pyplot as plt\n",
        "\n",
        "model.eval()\n",
        "mse_accumulator = []  # A list to accumulate the MSE for each batch\n",
        "dataloader = val_patient_data_baseline['ArRy']\n",
        "with torch.no_grad():\n",
        "    for batch in dataloader:\n",
        "        inputs = batch.to(device)  # inputs: (batch_size, num_channels, 512)\n",
        "        outputs = model(inputs)  # Run the batch through the model.\n",
        "        break\n",
        "\n",
        "x = np.linspace(0, 100, 512)\n",
        "y1 = inputs[4].squeeze()\n",
        "y2 = outputs[4].squeeze()\n",
        "plt.plot(x, y1, label=\"Inputs\")\n",
        "plt.plot(x, y2, label=\"Outputs\")\n",
        "plt.xlabel('Window number')\n",
        "plt.ylabel('Amplitude (µV)')\n",
        "plt.title('Reconstruction for Baseline Pt1')\n",
        "plt.grid(True)\n",
        "plt.legend()\n",
        "plt.show()"
      ],
      "metadata": {
        "id": "Q3gJBYfG1gKm",
        "colab": {
          "base_uri": "https://localhost:8080/",
          "height": 472
        },
        "outputId": "a0ad2fd5-624e-4ebe-b4aa-fc4956729260"
      },
      "id": "Q3gJBYfG1gKm",
      "execution_count": null,
      "outputs": [
        {
          "output_type": "display_data",
          "data": {
            "text/plain": [
              "<Figure size 640x480 with 1 Axes>"
            ],
            "image/png": "[encoded data removed]"
          },
          "metadata": {}
        }
      ]
    },
    {
      "cell_type": "markdown",
      "source": [
        "### Plot graphs for KiCl Seizure"
      ],
      "metadata": {
        "id": "pAbogEu2zAsH"
      },
      "id": "pAbogEu2zAsH"
    },
    {
      "cell_type": "code",
      "source": [
        "import matplotlib.pyplot as plt\n",
        "\n",
        "model.eval()\n",
        "mse_accumulator = []  # A list to accumulate the MSE for each batch\n",
        "dataloader = val_patient_data_seizure['KiCl']\n",
        "with torch.no_grad():\n",
        "    for batch in dataloader:\n",
        "        inputs = batch.to(device)  # inputs: (batch_size, num_channels, 512)\n",
        "        outputs = model(inputs)  # Run the batch through the model.\n",
        "        break\n",
        "\n",
        "x = np.linspace(0, 100, 512)\n",
        "y1 = inputs[4].squeeze()\n",
        "y2 = outputs[4].squeeze()\n",
        "plt.plot(x, y1, label=\"inputs\")\n",
        "plt.plot(x, y2, label=\"outputs\")\n",
        "plt.xlabel('Window number')\n",
        "plt.ylabel('Anplitude (µV)')\n",
        "plt.title('Reconstruction for Baseline Pt17')\n",
        "plt.grid(True)\n",
        "plt.legend()\n",
        "plt.show()"
      ],
      "metadata": {
        "id": "1EYB5atVzEDO",
        "colab": {
          "base_uri": "https://localhost:8080/",
          "height": 472
        },
        "outputId": "2f711c67-08a4-4379-8f4d-3bedcb610fd4"
      },
      "id": "1EYB5atVzEDO",
      "execution_count": null,
      "outputs": [
        {
          "output_type": "display_data",
          "data": {
            "text/plain": [
              "<Figure size 640x480 with 1 Axes>"
            ],
            "image/png": "[encoded data removed]"
          },
          "metadata": {}
        }
      ]
    },
    {
      "cell_type": "markdown",
      "source": [
        "### Plot graphs for ArRy Seizure"
      ],
      "metadata": {
        "id": "Ft5RFPQgy6bE"
      },
      "id": "Ft5RFPQgy6bE"
    },
    {
      "cell_type": "code",
      "source": [
        "import matplotlib.pyplot as plt\n",
        "\n",
        "model.eval()\n",
        "mse_accumulator = []  # A list to accumulate the MSE for each batch\n",
        "dataloader = patient_loader_ArRy\n",
        "with torch.no_grad():\n",
        "    for batch in dataloader:\n",
        "        inputs = batch.to(device)  # inputs: (batch_size, num_channels, 512)\n",
        "        outputs = model(inputs)  # Run the batch through the model.\n",
        "        break\n",
        "\n",
        "x = np.linspace(0, 100, 512)\n",
        "y1 = inputs[4].squeeze()\n",
        "y2 = outputs[4].squeeze()\n",
        "plt.plot(x, y1, label=\"inputs\")\n",
        "plt.plot(x, y2, label=\"outputs\")\n",
        "plt.xlabel('window number')\n",
        "plt.ylabel('Hz')\n",
        "plt.title('Hz for ArRy')\n",
        "plt.grid(True)\n",
        "plt.legend()\n",
        "plt.show()\n"
      ],
      "metadata": {
        "id": "H_Xslwdnx3MA",
        "colab": {
          "base_uri": "https://localhost:8080/",
          "height": 246
        },
        "outputId": "8b9a1cf2-f783-4b51-8069-3b3932ec7f5c"
      },
      "id": "H_Xslwdnx3MA",
      "execution_count": null,
      "outputs": [
        {
          "output_type": "error",
          "ename": "NameError",
          "evalue": "ignored",
          "traceback": [
            "\u001b[0;31m---------------------------------------------------------------------------\u001b[0m",
            "\u001b[0;31mNameError\u001b[0m                                 Traceback (most recent call last)",
            "\u001b[0;32m<ipython-input-130-449c7a4a984c>\u001b[0m in \u001b[0;36m<cell line: 5>\u001b[0;34m()\u001b[0m\n\u001b[1;32m      3\u001b[0m \u001b[0mmodel\u001b[0m\u001b[0;34m.\u001b[0m\u001b[0meval\u001b[0m\u001b[0;34m(\u001b[0m\u001b[0;34m)\u001b[0m\u001b[0;34m\u001b[0m\u001b[0;34m\u001b[0m\u001b[0m\n\u001b[1;32m      4\u001b[0m \u001b[0mmse_accumulator\u001b[0m \u001b[0;34m=\u001b[0m \u001b[0;34m[\u001b[0m\u001b[0;34m]\u001b[0m  \u001b[0;31m# A list to accumulate the MSE for each batch\u001b[0m\u001b[0;34m\u001b[0m\u001b[0;34m\u001b[0m\u001b[0m\n\u001b[0;32m----> 5\u001b[0;31m \u001b[0mdataloader\u001b[0m \u001b[0;34m=\u001b[0m \u001b[0mpatient_loader_ArRy\u001b[0m\u001b[0;34m\u001b[0m\u001b[0;34m\u001b[0m\u001b[0m\n\u001b[0m\u001b[1;32m      6\u001b[0m \u001b[0;32mwith\u001b[0m \u001b[0mtorch\u001b[0m\u001b[0;34m.\u001b[0m\u001b[0mno_grad\u001b[0m\u001b[0;34m(\u001b[0m\u001b[0;34m)\u001b[0m\u001b[0;34m:\u001b[0m\u001b[0;34m\u001b[0m\u001b[0;34m\u001b[0m\u001b[0m\n\u001b[1;32m      7\u001b[0m     \u001b[0;32mfor\u001b[0m \u001b[0mbatch\u001b[0m \u001b[0;32min\u001b[0m \u001b[0mdataloader\u001b[0m\u001b[0;34m:\u001b[0m\u001b[0;34m\u001b[0m\u001b[0;34m\u001b[0m\u001b[0m\n",
            "\u001b[0;31mNameError\u001b[0m: name 'patient_loader_ArRy' is not defined"
          ]
        }
      ]
    },
    {
      "cell_type": "code",
      "source": [
        "import matplotlib.pyplot as plt\n",
        "\n",
        "x = np.linspace(0, 100, 512)\n",
        "y = ictal_mses.squeeze()\n",
        "\n",
        "y2 =\n",
        "plt.plot(x, y, label=\"y1\")\n",
        "plt.plot(x, y2, label=\"y2\")\n",
        "plt.xlabel('window number')\n",
        "plt.ylabel('MSE')\n",
        "plt.title('MSEs on Seizure data for ArRy')\n",
        "plt.grid(True)\n",
        "plt.show()"
      ],
      "metadata": {
        "id": "jRI70ZAPvYaA",
        "colab": {
          "base_uri": "https://localhost:8080/",
          "height": 141
        },
        "outputId": "fb5205e1-d71f-4d5a-d46f-5ed4af60997c"
      },
      "id": "jRI70ZAPvYaA",
      "execution_count": null,
      "outputs": [
        {
          "output_type": "error",
          "ename": "SyntaxError",
          "evalue": "ignored",
          "traceback": [
            "\u001b[0;36m  File \u001b[0;32m\"<ipython-input-129-54811b372458>\"\u001b[0;36m, line \u001b[0;32m6\u001b[0m\n\u001b[0;31m    y2 =\u001b[0m\n\u001b[0m        ^\u001b[0m\n\u001b[0;31mSyntaxError\u001b[0m\u001b[0;31m:\u001b[0m invalid syntax\n"
          ]
        }
      ]
    },
    {
      "cell_type": "code",
      "execution_count": null,
      "id": "a336d234",
      "metadata": {
        "id": "a336d234"
      },
      "outputs": [],
      "source": [
        "# Dictionary to store validation results\n",
        "# validation_results = {patient_id: True/False}\n",
        "validation_results = {}\n",
        "\n",
        "# Loop through each patient's data in the validation set\n",
        "for patient_id, patient_loader in val_patient_data.items():\n",
        "\n",
        "    val_mses = []\n",
        "\n",
        "    # Loop through each batch to calculate MSE for this patient\n",
        "    for batch in patient_loader:\n",
        "        inputs = batch.to(device)\n",
        "        outputs = model(inputs)\n",
        "        mse = criterion(outputs, inputs).item()\n",
        "        val_mses.append(mse)\n",
        "\n",
        "    # Calculate mean MSE for this patient in the validation set\n",
        "    mean_val_mse = np.mean(val_mses)\n",
        "\n",
        "    # Compare with threshold, if available (this part would change if you are using patient-specific thresholds)\n",
        "    if patient_id in patient_thresholds:\n",
        "        if mean_val_mse > patient_thresholds[patient_id]:\n",
        "            print(f\"For {patient_id} above threshold\")\n",
        "            validation_results[patient_id] = True\n",
        "        else:\n",
        "            validation_results[patient_id] = False\n",
        "    else:\n",
        "        print(f\"{patient_id} not in patient_thresholds\")"
      ]
    },
    {
      "cell_type": "markdown",
      "source": [
        "### Misc"
      ],
      "metadata": {
        "id": "9YZxm3OOBS8f"
      },
      "id": "9YZxm3OOBS8f"
    },
    {
      "cell_type": "code",
      "execution_count": null,
      "id": "d7d62aa2",
      "metadata": {
        "id": "d7d62aa2"
      },
      "outputs": [],
      "source": [
        "\n"
      ]
    },
    {
      "cell_type": "code",
      "execution_count": null,
      "id": "ff69f31f",
      "metadata": {
        "id": "ff69f31f"
      },
      "outputs": [],
      "source": [
        "# Path to seizure file (from data directory) to visualise\n",
        "seizure_file = data_path + \"SeHu/SeHu_Seizure3.EDF\"\n",
        "\n",
        "# Load EEG data from an EDF file\n",
        "raw = mne.io.read_raw_edf(seizure_file, preload=True, verbose=False)\n",
        "\n",
        "# Filter out the reference channels and extract channel labels\n",
        "channel_labels = [chan[4:] for chan in raw.info['ch_names'] if \"Ref\" not in chan]\n",
        "\n",
        "# Create an EEG dataset for inference\n",
        "dataset = SEEGDataset(raw, 512, mean=global_mean, std=global_std)\n",
        "data_loader = DataLoader(dataset, batch_size=32)\n",
        "\n",
        "# Set the model to evaluation mode\n",
        "model.eval()\n",
        "\n",
        "# Calculate the mean squared error (MSE) for each sample in the dataset\n",
        "mses = []\n",
        "with torch.no_grad():\n",
        "    for batch in tqdm(data_loader, desc=\"Computing MSE\"):\n",
        "        inputs = batch.to(device)\n",
        "        outputs = model(inputs)\n",
        "        mses.extend(list(np.mean(np.square(inputs.cpu().numpy() - outputs.cpu().numpy()), axis=-1)[:, 0]))\n",
        "\n",
        "# Prepare data for visualization\n",
        "reshaped_mses = np.array(mses).reshape(len(channel_labels), -1)\n",
        "\n",
        "# Plotting the results\n",
        "fig, ax = plt.subplots(figsize=(15, 10))\n",
        "cax = ax.imshow(reshaped_mses, aspect='auto')\n",
        "\n",
        "# Set x-ticks and labels to represent time (every 5 units for clarity)\n",
        "num_time_points = reshaped_mses.shape[1]\n",
        "ax.set_xticks(np.arange(0, num_time_points, 5) - 0.5)\n",
        "ax.set_xticklabels(np.arange(0, num_time_points, 5))\n",
        "ax.set_xlabel(\"Time (s)\")\n",
        "\n",
        "# Set y-ticks and labels to represent SEEG channels\n",
        "ax.set_yticks(np.arange(len(channel_labels)))\n",
        "ax.set_yticklabels(channel_labels)\n",
        "ax.set_ylabel(\"SEEG Channel\")\n",
        "\n",
        "# Display a grid and set the title\n",
        "ax.grid(which='minor', color='w', linestyle='-', linewidth=2)\n",
        "ax.set_title(\"Colour grid of seizure scores over time and channels\")\n",
        "\n",
        "# Add a colorbar to the right side of the plot\n",
        "cbar = plt.colorbar(cax, ax=ax)\n",
        "cbar.set_label('Seizure Score', rotation=270, labelpad=15)\n",
        "\n",
        "# Save\n",
        "plt.tight_layout()\n",
        "\n",
        "# Save if required. Use .png to keep quality.\n",
        "plt.savefig(\"SeHuSz3.png\")\n",
        "# plt.savefig(\"/Users/leonorlavina/Desktop/SeHuSz3.png\")\n",
        "plt.savefig(f\"{colab_path}/SeHuSz3.png\")\n",
        "\n",
        "# and show the plot\n",
        "plt.show()"
      ]
    },
    {
      "cell_type": "code",
      "execution_count": null,
      "id": "a4dc9dc9",
      "metadata": {
        "id": "a4dc9dc9"
      },
      "outputs": [],
      "source": [
        "def detect_seizure_start(seizure_scores, threshold):\n",
        "    \"\"\"\n",
        "    Detect the start of a seizure for each channel based on a given threshold.\n",
        "\n",
        "    Parameters:\n",
        "    - seizure_scores: 2D numpy array of shape (num_chans, time_steps) with each element\n",
        "                      corresponding to a \"seizure score\".\n",
        "    - threshold: A threshold value for detecting seizure onset.\n",
        "\n",
        "    Returns:\n",
        "    - seizure_starts: A list of length (num_chans) indicating the index of the first element\n",
        "                      that exceeds the threshold. If no element exceeds the threshold, the value is -1.\n",
        "    \"\"\"\n",
        "\n",
        "# Filter out the reference channels and extract channel labels\n",
        "            channel_labels = [chan for chan in raw.info['ch_names'] if \"Ref\" not in chan]\n",
        "            seizure_indicator = [1 if label in seizure_chans else 0 for label in channel_labels]\n",
        "\n",
        "    # Using numpy to find the index of the first element that exceeds the threshold for each channel\n",
        "    seizure_starts = [np.argmax(chan > threshold) if np.any(chan > threshold) else -1 for chan in seizure_scores]\n",
        "\n",
        "    return seizure_starts"
      ]
    },
    {
      "cell_type": "code",
      "execution_count": null,
      "id": "a0bf1b0d",
      "metadata": {
        "id": "a0bf1b0d"
      },
      "outputs": [],
      "source": [
        "def annotate_seizures_from_edf(edf_file, seizure_starts, patient_threshold):\n",
        "    \"\"\"\n",
        "    Annotate seizures in an EDF file.\n",
        "\n",
        "    Parameters:\n",
        "    - edf_file: Path to the EDF file.\n",
        "    - seizure_starts: List of start times for seizures for each channel\n",
        "                      (or -1 if no seizure is detected).\n",
        "\n",
        "    Returns:\n",
        "    - raw: The annotated raw EDF data.\n",
        "    \"\"\"\n",
        "\n",
        "    # Load the EDF file\n",
        "    raw = mne.io.read_raw_edf(edf_file, preload=True, verbose=False)\n",
        "\n",
        "    picks = [chan for chan in raw.info['ch_names'] if \"Ref\" not in chan]\n",
        "\n",
        "    # Retain only the channels in the \"picks\" list\n",
        "    raw.pick(picks, verbose=False)\n",
        "\n",
        "    # Extract channel names\n",
        "    ch_names = [chan[4:] for chan in raw.info['ch_names']]\n",
        "\n",
        "    # Create lists to hold annotation info\n",
        "    onsets = []\n",
        "    durations = []\n",
        "    descriptions = []\n",
        "\n",
        "    # Iterate over channels and seizure start times\n",
        "    for ch_name, start in zip(ch_names, seizure_starts):\n",
        "        if start != -1:\n",
        "            onsets.append(start)\n",
        "            durations.append(0)  # Duration of 0 means it's an instantaneous event\n",
        "            descriptions.append(f\"{ch_name} onset\")\n",
        "\n",
        "    # Create a new Annotations object\n",
        "    annotations = mne.Annotations(onset=onsets, duration=durations, description=descriptions)\n",
        "\n",
        "    # Set the annotations in the raw data\n",
        "    raw.set_annotations(annotations)\n",
        "\n",
        "    return raw\n",
        "\n",
        "# Assume patient_id is the ID of the patient whose data you're currently annotating\n",
        "patient_threshold = patient_thresholds.get(patient_id, None)\n",
        "if patient_threshold is not None:\n",
        "    raw = annotate_seizures_from_edf(seizure_file, seizure_starts, patient_threshold)\n",
        "\n",
        "# Modification 3: Use the patient-specific threshold\n",
        "if patient_threshold is not None:\n",
        "    raw = annotate_seizures_from_edf(seizure_file, seizure_starts, patient_threshold)\n",
        "\n",
        "# Get list of seizure_starts\n",
        "seizure_starts = detect_seizure_start(reshaped_mses, threshold=patient_threshold)\n",
        "\n",
        "# Apply this for the previously defined seizure_file\n",
        "raw = annotate_seizures_from_edf(seizure_file, seizure_starts)\n",
        "raw.plot()  # To visualize the annotations\n",
        "\n",
        "# Save the file to save_path (you'll need to change this path)\n",
        "save_path = \"/Users/leonorlavina/Desktop/edffiles.edf\"\n",
        "mne.export.export_raw(save_path, raw, fmt='edf', overwrite=True)"
      ]
    },
    {
      "cell_type": "code",
      "execution_count": null,
      "id": "265ab9e6",
      "metadata": {
        "id": "265ab9e6"
      },
      "outputs": [],
      "source": []
    }
  ],
  "metadata": {
    "colab": {
      "provenance": [],
      "collapsed_sections": [
        "pAbogEu2zAsH",
        "Ft5RFPQgy6bE"
      ],
      "toc_visible": true,
      "machine_shape": "hm",
      "include_colab_link": true
    },
    "kernelspec": {
      "display_name": "Python 3 (ipykernel)",
      "language": "python",
      "name": "python3"
    },
    "language_info": {
      "codemirror_mode": {
        "name": "ipython",
        "version": 3
      },
      "file_extension": ".py",
      "mimetype": "text/x-python",
      "name": "python",
      "nbconvert_exporter": "python",
      "pygments_lexer": "ipython3",
      "version": "3.9.13"
    }
  },
  "nbformat": 4,
  "nbformat_minor": 5
}